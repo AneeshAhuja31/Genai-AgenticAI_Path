{
 "cells": [
  {
   "cell_type": "code",
   "execution_count": 1,
   "metadata": {},
   "outputs": [
    {
     "name": "stderr",
     "output_type": "stream",
     "text": [
      "DEBUG:root:this is a debug message\n",
      "INFO:root:this is an info message\n",
      "WARNING:root:this is a warning message\n",
      "ERROR:root:this is an error message\n",
      "CRITICAL:root:this is a critical message\n"
     ]
    }
   ],
   "source": [
    "import logging\n",
    "\n",
    "#Configure the basic logging settings\n",
    "logging.basicConfig(level=logging.DEBUG)\n",
    "\n",
    "#log messages with different warning levels\n",
    "logging.debug('this is a debug message')\n",
    "logging.info('this is an info message')\n",
    "logging.warning('this is a warning message')\n",
    "logging.error('this is an error message')\n",
    "logging.critical('this is a critical message')"
   ]
  },
  {
   "cell_type": "markdown",
   "metadata": {},
   "source": [
    "There are different log levels indicanting the severity of events. The default levels are:\n",
    "\n",
    "1. DEBUG: Detailed information,typically of interest only when diagnosing problems\n",
    "2. INFO: Conformation that things are working as expected\n",
    "3. WARNING: An indication that something unexpected happened or indicative of some problem in the near future. The software is still working as expected .\n",
    "4. ERROR: Due to a more serious problem, the software has not been able to perform some function\n",
    "5. CRITICAL: A very serious error, indicating that the program itself may br unable to continue running"
   ]
  },
  {
   "cell_type": "code",
   "execution_count": 1,
   "metadata": {},
   "outputs": [],
   "source": [
    "import logging\n",
    "\n",
    "#Configure the basic logging settings\n",
    "logging.basicConfig(\n",
    "    filename='app.log',\n",
    "    filemode='w',\n",
    "    level=logging.DEBUG,\n",
    "    format='%(asctime)s-%(name)s-%(levelname)s-%(message)s',\n",
    "    datefmt='%Y-%m-%d %H:%M:%S'\n",
    "    )\n",
    "\n",
    "\n",
    "#log messages with different warning levels\n",
    "logging.debug('this is a debug message')\n",
    "logging.info('this is an info message')\n",
    "logging.warning('this is a warning message')\n",
    "logging.error('this is an error message')\n",
    "logging.critical('this is a critical message')"
   ]
  },
  {
   "cell_type": "code",
   "execution_count": null,
   "metadata": {},
   "outputs": [],
   "source": []
  }
 ],
 "metadata": {
  "kernelspec": {
   "display_name": "Python 3",
   "language": "python",
   "name": "python3"
  },
  "language_info": {
   "codemirror_mode": {
    "name": "ipython",
    "version": 3
   },
   "file_extension": ".py",
   "mimetype": "text/x-python",
   "name": "python",
   "nbconvert_exporter": "python",
   "pygments_lexer": "ipython3",
   "version": "3.10.0"
  }
 },
 "nbformat": 4,
 "nbformat_minor": 2
}
