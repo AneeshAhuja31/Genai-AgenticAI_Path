{
 "cells": [
  {
   "cell_type": "markdown",
   "id": "d17c68bd",
   "metadata": {},
   "source": [
    "# LLM Application with LCEL\n",
    "App to translate text from english to another language.\\\n",
    "-> Using LLMS\\\n",
    "-> Using PromptTemplates and OutputParsers\\\n",
    "-> Using LangChain Expression Language (LCEL) to chain components together\\\n",
    "-> Debugging and tracing your application using LangSmith\\\n",
    "-> Deploying your application with LangServe "
   ]
  },
  {
   "cell_type": "code",
   "execution_count": 3,
   "id": "078388ad",
   "metadata": {},
   "outputs": [],
   "source": [
    "import os\n",
    "from dotenv import load_dotenv\n",
    "load_dotenv()\n",
    "\n",
    "groq_api_key = os.getenv('GROQ_API_KEY')\n",
    "huggingface_api_key = os.getenv('HF_TOKEN')"
   ]
  },
  {
   "cell_type": "code",
   "execution_count": 4,
   "id": "115ff69d",
   "metadata": {},
   "outputs": [
    {
     "data": {
      "text/plain": [
       "ChatGroq(client=<groq.resources.chat.completions.Completions object at 0x0000023B278F62F0>, async_client=<groq.resources.chat.completions.AsyncCompletions object at 0x0000023B278F7760>, model_name='Gemma2-9b-It', model_kwargs={}, groq_api_key=SecretStr('**********'))"
      ]
     },
     "execution_count": 4,
     "metadata": {},
     "output_type": "execute_result"
    }
   ],
   "source": [
    "from langchain_groq import ChatGroq\n",
    "model = ChatGroq(model=\"Gemma2-9b-It\",api_key=groq_api_key)\n",
    "model"
   ]
  },
  {
   "cell_type": "code",
   "execution_count": 6,
   "id": "43c8b8c3",
   "metadata": {},
   "outputs": [],
   "source": [
    "from langchain_core.messages import HumanMessage,SystemMessage\n",
    "\n",
    "messages = [\n",
    "    SystemMessage(content=\"Translate the following from English to French\"),\n",
    "    HumanMessage(content=\"Hello How are you?\")\n",
    "]\n",
    "result = model.invoke(messages)"
   ]
  },
  {
   "cell_type": "code",
   "execution_count": null,
   "id": "64bfdd43",
   "metadata": {},
   "outputs": [
    {
     "data": {
      "text/plain": [
       "AIMessage(content='Here are a few ways to translate \"Hello, how are you?\" to French:\\n\\n* **Bonjour, comment allez-vous ?** (Formal)\\n* **Salut, comment vas-tu ?** (Informal, to one person)\\n* **Salut, comment allez-vous ?** (Informal, to multiple people)\\n\\nThe best option depends on the context and your relationship with the person you are speaking to.\\n', additional_kwargs={}, response_metadata={'token_usage': {'completion_tokens': 89, 'prompt_tokens': 21, 'total_tokens': 110, 'completion_time': 0.161818182, 'prompt_time': 0.002120741, 'queue_time': 0.233736258, 'total_time': 0.163938923}, 'model_name': 'Gemma2-9b-It', 'system_fingerprint': 'fp_10c08bf97d', 'finish_reason': 'stop', 'logprobs': None}, id='run-59e70df3-e26a-45af-b863-2d0fbdf6c27a-0', usage_metadata={'input_tokens': 21, 'output_tokens': 89, 'total_tokens': 110})"
      ]
     },
     "execution_count": 7,
     "metadata": {},
     "output_type": "execute_result"
    }
   ],
   "source": [
    "result"
   ]
  },
  {
   "cell_type": "code",
   "execution_count": 8,
   "id": "de28bd16",
   "metadata": {},
   "outputs": [
    {
     "data": {
      "text/plain": [
       "'Here are a few ways to translate \"Hello, how are you?\" to French:\\n\\n* **Bonjour, comment allez-vous ?** (Formal)\\n* **Salut, comment vas-tu ?** (Informal, to one person)\\n* **Salut, comment allez-vous ?** (Informal, to multiple people)\\n\\nThe best option depends on the context and your relationship with the person you are speaking to.\\n'"
      ]
     },
     "execution_count": 8,
     "metadata": {},
     "output_type": "execute_result"
    }
   ],
   "source": [
    "from langchain_core.output_parsers import StrOutputParser\n",
    "parser = StrOutputParser()\n",
    "parser.invoke(result)"
   ]
  },
  {
   "cell_type": "code",
   "execution_count": 9,
   "id": "a042c813",
   "metadata": {},
   "outputs": [
    {
     "data": {
      "text/plain": [
       "'Here are a couple of ways to say \"Hello, how are you?\" in French:\\n\\n* **Formal:** Bonjour, comment allez-vous ? \\n* **Informal:** Salut, comment vas-tu ?  \\n\\nLet me know if you\\'d like other variations or want to practice more!\\n'"
      ]
     },
     "execution_count": 9,
     "metadata": {},
     "output_type": "execute_result"
    }
   ],
   "source": [
    "# Using LCEL - chain the components\n",
    "chain = model|parser\n",
    "chain.invoke(messages)"
   ]
  },
  {
   "cell_type": "code",
   "execution_count": 10,
   "id": "c8899c88",
   "metadata": {},
   "outputs": [],
   "source": [
    "# Prompt Templates\n",
    "from langchain_core.prompts import ChatPromptTemplate\n",
    "\n",
    "generic_templates = \"Translate the following into {language}:\"\n",
    "\n",
    "prompt = ChatPromptTemplate.from_messages(\n",
    "    [(\"system\",generic_templates),(\"user\",\"{text}\")]\n",
    ")"
   ]
  },
  {
   "cell_type": "code",
   "execution_count": 12,
   "id": "75fb6f2a",
   "metadata": {},
   "outputs": [],
   "source": [
    "result = prompt.invoke({\"language\":\"French\",\"text\":\"hi\"})"
   ]
  },
  {
   "cell_type": "code",
   "execution_count": null,
   "id": "577a8c3c",
   "metadata": {},
   "outputs": [
    {
     "data": {
      "text/plain": [
       "'आप कैसे हैं? (Aap kaise hain?) \\n\\n\\nThis is the most common and polite way to ask \"How are you?\" in Hindi. \\n'"
      ]
     },
     "execution_count": 13,
     "metadata": {},
     "output_type": "execute_result"
    },
    {
     "ename": "",
     "evalue": "",
     "output_type": "error",
     "traceback": [
      "\u001b[1;31mThe Kernel crashed while executing code in the current cell or a previous cell. \n",
      "\u001b[1;31mPlease review the code in the cell(s) to identify a possible cause of the failure. \n",
      "\u001b[1;31mClick <a href='https://aka.ms/vscodeJupyterKernelCrash'>here</a> for more info. \n",
      "\u001b[1;31mView Jupyter <a href='command:jupyter.viewOutput'>log</a> for further details."
     ]
    }
   ],
   "source": [
    "chain = prompt|model|parser\n",
    "chain.invoke({\"language\":\"Hindi\",\"text\":\"How are you?\"})"
   ]
  },
  {
   "cell_type": "code",
   "execution_count": null,
   "id": "ded3d634",
   "metadata": {},
   "outputs": [],
   "source": []
  }
 ],
 "metadata": {
  "kernelspec": {
   "display_name": "my_env",
   "language": "python",
   "name": "python3"
  },
  "language_info": {
   "codemirror_mode": {
    "name": "ipython",
    "version": 3
   },
   "file_extension": ".py",
   "mimetype": "text/x-python",
   "name": "python",
   "nbconvert_exporter": "python",
   "pygments_lexer": "ipython3",
   "version": "3.10.0"
  }
 },
 "nbformat": 4,
 "nbformat_minor": 5
}
