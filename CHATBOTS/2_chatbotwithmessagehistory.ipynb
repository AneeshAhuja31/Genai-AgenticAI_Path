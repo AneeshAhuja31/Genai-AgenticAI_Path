{
 "cells": [
  {
   "cell_type": "markdown",
   "id": "132a2e34",
   "metadata": {},
   "source": [
    "# Building a Chatbot\n",
    "This chatbot will will be able to have a conversion and remeber previous interactions\n"
   ]
  },
  {
   "cell_type": "code",
   "execution_count": 2,
   "id": "1f03d5d2",
   "metadata": {},
   "outputs": [],
   "source": [
    "import os\n",
    "from dotenv import load_dotenv\n",
    "load_dotenv()\n",
    "\n",
    "groq_api_key = os.getenv('GROQ_API_KEY')\n",
    "  "
   ]
  },
  {
   "cell_type": "code",
   "execution_count": 4,
   "id": "beb76559",
   "metadata": {},
   "outputs": [],
   "source": [
    "from langchain_groq import ChatGroq\n",
    "model = ChatGroq(model=\"Gemma2-9b-It\",groq_api_key=groq_api_key)"
   ]
  },
  {
   "cell_type": "code",
   "execution_count": 6,
   "id": "1cd70a8a",
   "metadata": {},
   "outputs": [
    {
     "data": {
      "text/plain": [
       "AIMessage(content=\"Hi Aneesh, it's nice to meet you! \\n\\nWhat can I do for you today? Are you working on any projects or have any questions I can help you with? I'm happy to chat or help in any way I can. 😊  \\n\\n\", additional_kwargs={}, response_metadata={'token_usage': {'completion_tokens': 58, 'prompt_tokens': 24, 'total_tokens': 82, 'completion_time': 0.105454545, 'prompt_time': 0.002383585, 'queue_time': 0.28829814, 'total_time': 0.10783813}, 'model_name': 'Gemma2-9b-It', 'system_fingerprint': 'fp_10c08bf97d', 'finish_reason': 'stop', 'logprobs': None}, id='run-b84386ed-8543-474f-a8db-bc5fcf200bb0-0', usage_metadata={'input_tokens': 24, 'output_tokens': 58, 'total_tokens': 82})"
      ]
     },
     "execution_count": 6,
     "metadata": {},
     "output_type": "execute_result"
    }
   ],
   "source": [
    "from langchain_core.messages import HumanMessage\n",
    "model.invoke([HumanMessage(content=\"Hi, my name is Aneesh i am a 2nd year student\")])"
   ]
  },
  {
   "cell_type": "code",
   "execution_count": null,
   "id": "805645ba",
   "metadata": {},
   "outputs": [
    {
     "data": {
      "text/plain": [
       "AIMessage(content=\"You told me your name is Aneesh and that you are a 2nd year student.  😊  \\n\\nIs there anything else you'd like to know or talk about?  \\n\", additional_kwargs={}, response_metadata={'token_usage': {'completion_tokens': 41, 'prompt_tokens': 100, 'total_tokens': 141, 'completion_time': 0.074545455, 'prompt_time': 0.007079334, 'queue_time': 0.265185195, 'total_time': 0.081624789}, 'model_name': 'Gemma2-9b-It', 'system_fingerprint': 'fp_10c08bf97d', 'finish_reason': 'stop', 'logprobs': None}, id='run-ae768a95-ffe9-4fc7-bb42-d9bb4ec6eeb6-0', usage_metadata={'input_tokens': 100, 'output_tokens': 41, 'total_tokens': 141})"
      ]
     },
     "execution_count": 7,
     "metadata": {},
     "output_type": "execute_result"
    }
   ],
   "source": [
    "from langchain_core.messages import AIMessage\n",
    "model.invoke([\n",
    "    HumanMessage(content=\"Hi, my name is Aneesh i am a 2nd year student\"),\n",
    "    AIMessage(content=\"Hi Aneesh, it's nice to meet you! \\n\\nWhat can I do for you today? Are you working on any projects or have any questions I can help you with? I'm happy to chat or help in any way I can. 😊  \\n\\n\"),\n",
    "    HumanMessage(content=\"Hey Whats my name and what year am i from?\")\n",
    "])"
   ]
  },
  {
   "cell_type": "markdown",
   "id": "54985800",
   "metadata": {},
   "source": [
    "### Message History\n",
    "Message History class is used to wrap our model and make it more stateful. This will keep track of inputs and outputs of the model, and store them in some database. Future interactions will then load those messages and pass them into the chain as part of the input."
   ]
  },
  {
   "cell_type": "code",
   "execution_count": 8,
   "id": "cd54b557",
   "metadata": {},
   "outputs": [],
   "source": [
    "from langchain_community.chat_message_histories import ChatMessageHistory\n",
    "from langchain_core.chat_history import BaseChatMessageHistory\n",
    "from langchain_core.runnables.history import RunnableWithMessageHistory\n",
    "\n",
    "store = {}\n",
    "def get_session_history(session_id:str)->BaseChatMessageHistory:\n",
    "    if session_id not in store:\n",
    "        store[session_id]=ChatMessageHistory()\n",
    "    return store[session_id]\n",
    "\n",
    "with_message_history = RunnableWithMessageHistory(model,get_session_history)"
   ]
  },
  {
   "cell_type": "code",
   "execution_count": 10,
   "id": "5f1581ab",
   "metadata": {},
   "outputs": [],
   "source": [
    "config = {\"configurable\":{\"session_id\":\"chat1\"}}\n",
    "response = with_message_history.invoke(\n",
    "    [HumanMessage(content=\"Hi, my name is Aneesh i am a 2nd year student\")],\n",
    "    config=config\n",
    ")"
   ]
  },
  {
   "cell_type": "code",
   "execution_count": 11,
   "id": "f977bf81",
   "metadata": {},
   "outputs": [
    {
     "data": {
      "text/plain": [
       "AIMessage(content='Your name is Aneesh!  I remember from our first conversation.  😄 \\n\\n\\n\\n\\n', additional_kwargs={}, response_metadata={'token_usage': {'completion_tokens': 21, 'prompt_tokens': 118, 'total_tokens': 139, 'completion_time': 0.038181818, 'prompt_time': 0.00573121, 'queue_time': 0.231446369, 'total_time': 0.043913028}, 'model_name': 'Gemma2-9b-It', 'system_fingerprint': 'fp_10c08bf97d', 'finish_reason': 'stop', 'logprobs': None}, id='run-2ad8c9af-a19a-49e0-9fa3-7d53fa9de417-0', usage_metadata={'input_tokens': 118, 'output_tokens': 21, 'total_tokens': 139})"
      ]
     },
     "execution_count": 11,
     "metadata": {},
     "output_type": "execute_result"
    }
   ],
   "source": [
    "with_message_history.invoke(\n",
    "    [HumanMessage(content=\"What's my name?\")],\n",
    "    config=config\n",
    ")"
   ]
  },
  {
   "cell_type": "code",
   "execution_count": 13,
   "id": "d93e39bb",
   "metadata": {},
   "outputs": [
    {
     "data": {
      "text/plain": [
       "AIMessage(content='As an AI, I have no memory of past conversations and do not know your name. Please tell me your name so I can address you properly.\\n', additional_kwargs={}, response_metadata={'token_usage': {'completion_tokens': 33, 'prompt_tokens': 15, 'total_tokens': 48, 'completion_time': 0.06, 'prompt_time': 0.001957346, 'queue_time': 0.23590793300000001, 'total_time': 0.061957346}, 'model_name': 'Gemma2-9b-It', 'system_fingerprint': 'fp_10c08bf97d', 'finish_reason': 'stop', 'logprobs': None}, id='run-fbffbdbd-91d8-424e-bd51-5da3761ee06b-0', usage_metadata={'input_tokens': 15, 'output_tokens': 33, 'total_tokens': 48})"
      ]
     },
     "execution_count": 13,
     "metadata": {},
     "output_type": "execute_result"
    }
   ],
   "source": [
    "# change the config --> session_id\n",
    "config1 = {\"configurable\":{\"session_id\":\"chat2\"}}\n",
    "with_message_history.invoke(\n",
    "    [HumanMessage(content=\"What's my name?\")],\n",
    "    config=config1\n",
    ")"
   ]
  },
  {
   "cell_type": "code",
   "execution_count": null,
   "id": "55bf8a8b",
   "metadata": {},
   "outputs": [],
   "source": []
  }
 ],
 "metadata": {
  "kernelspec": {
   "display_name": "my_env",
   "language": "python",
   "name": "python3"
  },
  "language_info": {
   "codemirror_mode": {
    "name": "ipython",
    "version": 3
   },
   "file_extension": ".py",
   "mimetype": "text/x-python",
   "name": "python",
   "nbconvert_exporter": "python",
   "pygments_lexer": "ipython3",
   "version": "3.10.0"
  }
 },
 "nbformat": 4,
 "nbformat_minor": 5
}
