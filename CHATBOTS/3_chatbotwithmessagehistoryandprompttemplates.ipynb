{
 "cells": [
  {
   "cell_type": "markdown",
   "id": "19972d14",
   "metadata": {},
   "source": [
    "# Prompt Templates\n",
    "Prompt Templates help to turn raw user information into a format that the LLM can work with. In this case, the raw user input is just a message, which we are passing to the LLM."
   ]
  },
  {
   "cell_type": "code",
   "execution_count": 20,
   "id": "41bb998d",
   "metadata": {},
   "outputs": [],
   "source": [
    "import os\n",
    "from dotenv import load_dotenv\n",
    "from langchain_groq import ChatGroq\n",
    "load_dotenv()\n",
    "groq_api_key = os.getenv(\"GROQ_API_KEY\")\n",
    "model = ChatGroq(model=\"Gemma2-9b-It\",groq_api_key=groq_api_key)"
   ]
  },
  {
   "cell_type": "code",
   "execution_count": null,
   "id": "d6ae1841",
   "metadata": {},
   "outputs": [],
   "source": [
    "# prompt with more complexity\n",
    "from langchain_core.prompts import ChatPromptTemplate,MessagesPlaceholder\n",
    "prompt = ChatPromptTemplate.from_messages(\n",
    "    [\n",
    "        (\"system\",\n",
    "         \"You are a helpful assistant. Answer all the question to the best of your abilities in {language}\"\n",
    "        ),\n",
    "        MessagesPlaceholder(variable_name=\"messages\") #It acts as a slot in your prompt template where a list of messages (like from a memory object or manual input) can be inserted when you call the chain.\n",
    "\n",
    "    ]\n",
    ")\n",
    "chain = prompt|model"
   ]
  },
  {
   "cell_type": "code",
   "execution_count": 22,
   "id": "9281ff48",
   "metadata": {},
   "outputs": [
    {
     "data": {
      "text/plain": [
       "AIMessage(content='Namaste Aneesh! \\n\\nआपका स्वागत है! मैं आपकी मदद करने के लिए यहाँ हूँ।  आप मुझसे जो भी प्रश्न पूछना चाहें, मैं अपने ज्ञान के अनुसार उत्तर देने की पूरी कोशिश करूँगा।  \\n\\nक्या आप कोई प्रश्न पूछना चाहेंगे? \\n\\n', additional_kwargs={}, response_metadata={'token_usage': {'completion_tokens': 74, 'prompt_tokens': 33, 'total_tokens': 107, 'completion_time': 0.134545455, 'prompt_time': 0.002365704, 'queue_time': 0.232555655, 'total_time': 0.136911159}, 'model_name': 'Gemma2-9b-It', 'system_fingerprint': 'fp_10c08bf97d', 'finish_reason': 'stop', 'logprobs': None}, id='run-3e4bbb51-8392-49d6-9e25-8276f799107c-0', usage_metadata={'input_tokens': 33, 'output_tokens': 74, 'total_tokens': 107})"
      ]
     },
     "execution_count": 22,
     "metadata": {},
     "output_type": "execute_result"
    }
   ],
   "source": [
    "from langchain_core.messages import HumanMessage\n",
    "chain.invoke({\"messages\":[HumanMessage(content=\"Hi my name is Aneesh\")],\"language\":\"Hindi\"})"
   ]
  },
  {
   "cell_type": "code",
   "execution_count": 23,
   "id": "fb69813d",
   "metadata": {},
   "outputs": [],
   "source": [
    "from langchain_community.chat_message_histories import ChatMessageHistory\n",
    "from langchain_core.chat_history import BaseChatMessageHistory\n",
    "\n",
    "store = {}\n",
    "def get_session_history(session_id:str)->BaseChatMessageHistory:\n",
    "    if session_id not in store:\n",
    "        store[session_id] = ChatMessageHistory()\n",
    "    return store[session_id]\n",
    "\n"
   ]
  },
  {
   "cell_type": "markdown",
   "id": "54dd82b0",
   "metadata": {},
   "source": [
    "Let's now wrap this more complicated chain in a Message History Class. This time, because there are multiple keys in the input, we need to specify the correct key to save chat history."
   ]
  },
  {
   "cell_type": "code",
   "execution_count": 26,
   "id": "6a91b9c8",
   "metadata": {},
   "outputs": [],
   "source": [
    "from langchain_core.runnables.history import RunnableWithMessageHistory\n",
    "with_message_history = RunnableWithMessageHistory(chain,\n",
    "                                                  get_session_history,\n",
    "                                                  input_messages_key=\"messages\"\n",
    "                                                  )"
   ]
  },
  {
   "cell_type": "code",
   "execution_count": null,
   "id": "caf63ea0",
   "metadata": {},
   "outputs": [
    {
     "data": {
      "text/plain": [
       "'नमस्ते Aneesh! 👋  मुझे आपकी मदद करने में खुशी हो रही है। \\n\\nआप क्या जानना चाहेंगे? 😊  कृपया कोई भी प्रश्न पूछने में संकोच न करें।  \\n\\n'"
      ]
     },
     "execution_count": 27,
     "metadata": {},
     "output_type": "execute_result"
    }
   ],
   "source": [
    "config = {\"configurable\":{\"session_id\":\"chat3\"}}\n",
    "response = with_message_history.invoke(\n",
    "    {\"messages\":[HumanMessage(content=\"Hi my name is Aneesh\")],\"language\":\"Hindi\"},\n",
    "    config=config\n",
    ")\n",
    "response.content"
   ]
  },
  {
   "cell_type": "code",
   "execution_count": 30,
   "id": "0781cf4a",
   "metadata": {},
   "outputs": [
    {
     "data": {
      "text/plain": [
       "AIMessage(content='Votre nom est Aneesh.  😊 \\n\\nIs there anything else I can help you with? \\n', additional_kwargs={}, response_metadata={'token_usage': {'completion_tokens': 24, 'prompt_tokens': 150, 'total_tokens': 174, 'completion_time': 0.043636364, 'prompt_time': 0.006016721, 'queue_time': 0.328995669, 'total_time': 0.049653085}, 'model_name': 'Gemma2-9b-It', 'system_fingerprint': 'fp_10c08bf97d', 'finish_reason': 'stop', 'logprobs': None}, id='run-67ae6a18-9fbc-459c-9253-70c61d9140b8-0', usage_metadata={'input_tokens': 150, 'output_tokens': 24, 'total_tokens': 174})"
      ]
     },
     "execution_count": 30,
     "metadata": {},
     "output_type": "execute_result"
    }
   ],
   "source": [
    "with_message_history.invoke(\n",
    "\n",
    "    {\"messages\":[HumanMessage(content=\"what's my name?\")],\"language\":\"French\"},\n",
    "    config=config\n",
    ")\n"
   ]
  },
  {
   "cell_type": "code",
   "execution_count": null,
   "id": "25f56bc4",
   "metadata": {},
   "outputs": [],
   "source": []
  }
 ],
 "metadata": {
  "kernelspec": {
   "display_name": "my_env",
   "language": "python",
   "name": "python3"
  },
  "language_info": {
   "codemirror_mode": {
    "name": "ipython",
    "version": 3
   },
   "file_extension": ".py",
   "mimetype": "text/x-python",
   "name": "python",
   "nbconvert_exporter": "python",
   "pygments_lexer": "ipython3",
   "version": "3.10.0"
  }
 },
 "nbformat": 4,
 "nbformat_minor": 5
}
