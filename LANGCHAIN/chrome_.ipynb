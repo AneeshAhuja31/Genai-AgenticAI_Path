{
 "cells": [
  {
   "cell_type": "markdown",
   "id": "80a9443b",
   "metadata": {},
   "source": [
    "# Chroma \n",
    "Chroma is a AI-native open-source vector database focused on developer productivity and happiness. Chroma is licensed under Apache 2.0"
   ]
  },
  {
   "cell_type": "code",
   "execution_count": 2,
   "id": "80bc0923",
   "metadata": {},
   "outputs": [],
   "source": [
    "from langchain_chroma import Chroma\n",
    "from langchain_community.document_loaders import TextLoader\n",
    "from langchain_community.embeddings import OllamaEmbeddings\n",
    "from langchain_text_splitters import RecursiveCharacterTextSplitter"
   ]
  },
  {
   "cell_type": "code",
   "execution_count": 3,
   "id": "04e472e4",
   "metadata": {},
   "outputs": [],
   "source": [
    "loader = TextLoader(\"speech.txt\")\n",
    "data = loader.load()"
   ]
  },
  {
   "cell_type": "code",
   "execution_count": 11,
   "id": "edc5591d",
   "metadata": {},
   "outputs": [],
   "source": [
    "text_splitter = RecursiveCharacterTextSplitter(chunk_size=500,chunk_overlap=0)\n",
    "splits = text_splitter.split_documents(data)"
   ]
  },
  {
   "cell_type": "code",
   "execution_count": 12,
   "id": "5ac92770",
   "metadata": {},
   "outputs": [
    {
     "data": {
      "text/plain": [
       "[Document(metadata={'source': 'speech.txt'}, page_content='Ladies and gentlemen,\\n\\nThank you all for being here today. It is both an honor and a privilege to address you at this pivotal moment in our shared journey toward progress and transformation.'),\n",
       " Document(metadata={'source': 'speech.txt'}, page_content=\"Over the last decade, we have witnessed a remarkable evolution in the world of technology. Artificial intelligence, machine learning, blockchain, and quantum computing are no longer just buzzwords—they are active drivers of change, disrupting traditional systems and reimagining what's possible across every industry. Yet, amid all this innovation, we must ask ourselves: are we building systems that truly serve humanity?\"),\n",
       " Document(metadata={'source': 'speech.txt'}, page_content='The potential for good is enormous. AI has begun revolutionizing healthcare—diagnosing diseases faster and with greater accuracy than ever before. In education, intelligent tutoring systems are adapting to individual learning styles, breaking barriers for students worldwide. In agriculture, AI-driven models are helping predict crop yields and optimize water usage, ensuring food security in regions long plagued by scarcity.'),\n",
       " Document(metadata={'source': 'speech.txt'}, page_content='However, these advancements come with immense responsibility. We must prioritize ethical development, transparency in algorithms, and inclusivity in datasets. We must build not just for the majority, but also for the margins—for those whose voices have too often been excluded from the design table. Because technology that doesn’t include everyone, ultimately, serves no one.'),\n",
       " Document(metadata={'source': 'speech.txt'}, page_content=\"This journey requires collaboration—not only among developers, researchers, and policymakers, but also among communities, educators, and users. We must foster a culture where feedback is welcomed, mistakes are acknowledged, and the north star is always human well-being.\\n\\nTo the innovators in the room: your code carries consequences. To the policymakers: your regulation must keep pace with reality. To the educators: your teaching shapes tomorrow's builders.\"),\n",
       " Document(metadata={'source': 'speech.txt'}, page_content=\"Let us move forward with courage and clarity. Let us design with compassion, build with purpose, and lead with humility.\\n\\nThe future isn't something we await—it's something we create.\\n\\nThank you.\\n\\n---\"),\n",
       " Document(metadata={'source': 'speech.txt'}, page_content='As we look to the next ten years, the speed of change is only accelerating. From climate modeling to genome editing, from renewable energy optimization to global communications networks, every domain is being shaped by data and computational power. The question is not whether we will use these tools, but how.\\n\\nWill we automate thoughtfully or recklessly? Will we uplift or displace? These are not questions for machines—they are questions for people. For leaders like you.'),\n",
       " Document(metadata={'source': 'speech.txt'}, page_content='The role of human agency has never been more critical. AI systems will reflect the goals and values we encode into them. If we prioritize equity, justice, and sustainability, our tools will reflect that. If we prioritize efficiency at the cost of dignity, they will reflect that too.'),\n",
       " Document(metadata={'source': 'speech.txt'}, page_content='And that’s why governance matters—not just at the national or corporate level, but within every engineering team, every research lab, every classroom. The conversations we have today about fairness, safety, and accountability will shape the world our children inherit.'),\n",
       " Document(metadata={'source': 'speech.txt'}, page_content='Equally important is digital access. Millions around the world still live without stable internet, digital literacy, or basic tech infrastructure. Bridging that divide is not just a matter of economics—it is a matter of human rights. In a connected age, connectivity is power.'),\n",
       " Document(metadata={'source': 'speech.txt'}, page_content='So, as we invest in AI and automation, we must also invest in people. In training, in upskilling, in the soft skills that make hard tech meaningful. Let us build systems that listen as well as speak, that learn not just from data but from empathy.\\n\\nThis is not the responsibility of one sector. It is a shared duty that belongs to every institution and every individual with the capacity to influence the trajectory of this transformation.\\n\\n---'),\n",
       " Document(metadata={'source': 'speech.txt'}, page_content=\"Finally, let us imagine boldly. Imagine a world where rural clinics use AI to detect illnesses early, saving lives before symptoms emerge. Imagine classrooms that adapt in real-time to student needs, eliminating the achievement gap. Imagine cities that run on renewable power, orchestrated by intelligent grids, serving both people and planet.\\n\\nThese aren't dreams—they're blueprints. And you, each of you, are the architects.\"),\n",
       " Document(metadata={'source': 'speech.txt'}, page_content=\"Whether you're building apps or shaping policy, writing articles or writing code, your contribution matters. The world is not waiting for perfect conditions; it is responding to what we do today.\\n\\nSo rise to meet this moment. Let your ethics be as advanced as your algorithms. Let your purpose be as sharp as your programming. Let your heart guide your hardware.\"),\n",
       " Document(metadata={'source': 'speech.txt'}, page_content='Let us commit to building a future where intelligence—human and artificial—works hand in hand, guided not by profit alone, but by principle.\\n\\nBecause progress without purpose is just motion. But progress with intention? That’s transformation.\\n\\nThank you.')]"
      ]
     },
     "execution_count": 12,
     "metadata": {},
     "output_type": "execute_result"
    }
   ],
   "source": [
    "splits"
   ]
  },
  {
   "cell_type": "code",
   "execution_count": 14,
   "id": "02e9dee2",
   "metadata": {},
   "outputs": [
    {
     "data": {
      "text/plain": [
       "<langchain_chroma.vectorstores.Chroma at 0x2395c38b9a0>"
      ]
     },
     "execution_count": 14,
     "metadata": {},
     "output_type": "execute_result"
    }
   ],
   "source": [
    "embedding = OllamaEmbeddings(model=\"gemma:2b\")\n",
    "vectordb = Chroma.from_documents(splits,embedding=embedding)\n",
    "vectordb"
   ]
  },
  {
   "cell_type": "code",
   "execution_count": 16,
   "id": "13c70ee5",
   "metadata": {},
   "outputs": [
    {
     "data": {
      "text/plain": [
       "'Let us commit to building a future where intelligence—human and artificial—works hand in hand, guided not by profit alone, but by principle.\\n\\nBecause progress without purpose is just motion. But progress with intention? That’s transformation.\\n\\nThank you.'"
      ]
     },
     "execution_count": 16,
     "metadata": {},
     "output_type": "execute_result"
    }
   ],
   "source": [
    "# query\n",
    "query = \"What is the main topic of this text?\"\n",
    "docs = vectordb.similarity_search(query)\n",
    "docs[0].page_content"
   ]
  },
  {
   "cell_type": "code",
   "execution_count": null,
   "id": "7659b597",
   "metadata": {},
   "outputs": [],
   "source": [
    "#save to disk\n",
    "vectordb = Chroma.from_documents(documents=splits,embedding=embedding,persist_directory=\"./chroma_db\")"
   ]
  },
  {
   "cell_type": "code",
   "execution_count": 18,
   "id": "db53829f",
   "metadata": {},
   "outputs": [
    {
     "data": {
      "text/plain": [
       "'Let us commit to building a future where intelligence—human and artificial—works hand in hand, guided not by profit alone, but by principle.\\n\\nBecause progress without purpose is just motion. But progress with intention? That’s transformation.\\n\\nThank you.'"
      ]
     },
     "execution_count": 18,
     "metadata": {},
     "output_type": "execute_result"
    }
   ],
   "source": [
    "#load from disk\n",
    "db2 = Chroma(persist_directory=\"./chroma_db\",embedding_function=embedding)\n",
    "docs = db2.similarity_search(query)\n",
    "docs[0].page_content"
   ]
  },
  {
   "cell_type": "code",
   "execution_count": 19,
   "id": "b5ab2bd6",
   "metadata": {},
   "outputs": [
    {
     "data": {
      "text/plain": [
       "[(Document(id='ce2abddd-09da-4273-ba0b-f13552f1a690', metadata={'source': 'speech.txt'}, page_content='Let us commit to building a future where intelligence—human and artificial—works hand in hand, guided not by profit alone, but by principle.\\n\\nBecause progress without purpose is just motion. But progress with intention? That’s transformation.\\n\\nThank you.'),\n",
       "  2372.648203720681),\n",
       " (Document(id='2ad34c69-c341-45ac-9d4c-5d903a6be614', metadata={'source': 'speech.txt'}, page_content='The potential for good is enormous. AI has begun revolutionizing healthcare—diagnosing diseases faster and with greater accuracy than ever before. In education, intelligent tutoring systems are adapting to individual learning styles, breaking barriers for students worldwide. In agriculture, AI-driven models are helping predict crop yields and optimize water usage, ensuring food security in regions long plagued by scarcity.'),\n",
       "  2586.7914991332304),\n",
       " (Document(id='8db913fb-8b24-472e-8ed8-1e473a004d3a', metadata={'source': 'speech.txt'}, page_content='However, these advancements come with immense responsibility. We must prioritize ethical development, transparency in algorithms, and inclusivity in datasets. We must build not just for the majority, but also for the margins—for those whose voices have too often been excluded from the design table. Because technology that doesn’t include everyone, ultimately, serves no one.'),\n",
       "  2692.8119631299137),\n",
       " (Document(id='120b8211-15f6-4c73-a54c-8b5d104fb948', metadata={'source': 'speech.txt'}, page_content='Ladies and gentlemen,\\n\\nThank you all for being here today. It is both an honor and a privilege to address you at this pivotal moment in our shared journey toward progress and transformation.'),\n",
       "  2698.123253183205)]"
      ]
     },
     "execution_count": 19,
     "metadata": {},
     "output_type": "execute_result"
    }
   ],
   "source": [
    "#similarity search with score\n",
    "docs = vectordb.similarity_search_with_score(query)\n",
    "docs"
   ]
  },
  {
   "cell_type": "code",
   "execution_count": 20,
   "id": "7dbf11be",
   "metadata": {},
   "outputs": [
    {
     "data": {
      "text/plain": [
       "'Let us commit to building a future where intelligence—human and artificial—works hand in hand, guided not by profit alone, but by principle.\\n\\nBecause progress without purpose is just motion. But progress with intention? That’s transformation.\\n\\nThank you.'"
      ]
     },
     "execution_count": 20,
     "metadata": {},
     "output_type": "execute_result"
    }
   ],
   "source": [
    "## Retreiver option\n",
    "retriever = vectordb.as_retriever()\n",
    "retriever.invoke(query)[0].page_content"
   ]
  },
  {
   "cell_type": "code",
   "execution_count": null,
   "id": "1de2f895",
   "metadata": {},
   "outputs": [],
   "source": []
  }
 ],
 "metadata": {
  "kernelspec": {
   "display_name": "my_env",
   "language": "python",
   "name": "python3"
  },
  "language_info": {
   "codemirror_mode": {
    "name": "ipython",
    "version": 3
   },
   "file_extension": ".py",
   "mimetype": "text/x-python",
   "name": "python",
   "nbconvert_exporter": "python",
   "pygments_lexer": "ipython3",
   "version": "3.10.0"
  }
 },
 "nbformat": 4,
 "nbformat_minor": 5
}
