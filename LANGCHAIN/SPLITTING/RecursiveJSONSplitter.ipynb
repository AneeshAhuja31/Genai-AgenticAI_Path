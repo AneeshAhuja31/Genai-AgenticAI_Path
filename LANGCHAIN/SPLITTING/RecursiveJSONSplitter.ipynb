{
 "cells": [
  {
   "cell_type": "markdown",
   "id": "cd2186a8",
   "metadata": {},
   "source": [
    "# Recursive JSON Splitter\n",
    "\n",
    "This json splitter splits json data while allowing control over chunk sizes. It traverses json data depth first and builds smaller json chunks. It attempts to keep nested json objects whole but will split them if needed to keep chunks between min_chunk_size and the max_chunk_size\n",
    "\n",
    "If the value is not a nested json, but rather a very large string the string will not be split. If you need a hard cap on the chunk size consider composing this with a Recursive Text splitter on those chunks\n",
    "\n",
    "There is an optional pre-processing step to split lists, by first converting them to json(dict) and then splitting them as such. "
   ]
  },
  {
   "cell_type": "code",
   "execution_count": 3,
   "id": "b75cb79a",
   "metadata": {},
   "outputs": [
    {
     "data": {
      "text/plain": [
       "{'detail': 'Not Found'}"
      ]
     },
     "execution_count": 3,
     "metadata": {},
     "output_type": "execute_result"
    }
   ],
   "source": [
    "import json\n",
    "import requests\n",
    "\n",
    "json_data = requests.get(\"https://api.smith.langchain.com/openai.json\").json()\n",
    "json_data"
   ]
  },
  {
   "cell_type": "code",
   "execution_count": null,
   "id": "34d22680",
   "metadata": {},
   "outputs": [],
   "source": []
  }
 ],
 "metadata": {
  "kernelspec": {
   "display_name": "my_env",
   "language": "python",
   "name": "python3"
  },
  "language_info": {
   "codemirror_mode": {
    "name": "ipython",
    "version": 3
   },
   "file_extension": ".py",
   "mimetype": "text/x-python",
   "name": "python",
   "nbconvert_exporter": "python",
   "pygments_lexer": "ipython3",
   "version": "3.10.0"
  }
 },
 "nbformat": 4,
 "nbformat_minor": 5
}
