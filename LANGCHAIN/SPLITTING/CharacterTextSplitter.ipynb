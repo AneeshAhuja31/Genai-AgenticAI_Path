{
 "cells": [
  {
   "cell_type": "markdown",
   "id": "9b8b78b7",
   "metadata": {},
   "source": [
    "# Character Text Splitter\n",
    "\n",
    "It split text purely based by character count, based on fixed chunk size and overlap. \n",
    "It doesn't care about preserving sentence or word boundaries. It is simple and fast.\n",
    "It may cut off in the middle of words or sentences"
   ]
  },
  {
   "cell_type": "code",
   "execution_count": 4,
   "id": "d94f7f3b",
   "metadata": {},
   "outputs": [
    {
     "data": {
      "text/plain": [
       "[Document(metadata={'source': 'hi.txt'}, page_content=\"vnvp e\\ne r\\n tfg\\n bknt\\n ojggg\\n g\\n gggg\\n gg\\n ggg\\n gggg\\n ggggg\\n ggggvf\\n  vnfsjbv\\n  foubv;\\n  fu b;\\n  9vvr\\n  ;vb;ouv\\n  nnbnv'pb\\n  ir'pvjev\\n  biprn\\n  brblrf \\n  bknto\\n  jggggg\\n  ggg\\n  gggg\\n  gggg\\n  ggggg\\n  gggggvf f\\n   kntf\\n\\n    k tpdf n\\n    fun \\n    n\\n     n\\n\\n     borbn\\n     obnr\\\\ [o\\n     nbrpfnr\\n     inrpinbh\\n     ve8 by97\\n     trtb09vty\\n      w9cv9 7gs\\n      9v7 d hv'\\n      edj hr ch\\n      bi;rhdgrw\\n      iuoshviv\\n      nfkvweivbr\\n      iubirwb\\n     pebni b\\n     brb w\\n     b w\\n      w \\n      d berief\\n      \\n      \\n       dkfnp if\\n       nnnnnnnnn\\n       nnnnnnnnn\\n       nnnnnnnnnn\\n       nnnnnnnnnvn\\n       ispvn spifb\\n        ifn ipfsbi\\n        pfsn pdini\\n        pnpin ipnf\\n        pibif\\n       \\n       b dx g\\n        e dg\\n        g\\n         \\n         \\n         g \\n         edgc \\n         egd gc\\n         ]\\n   \\n    vrgr\\n     rmhgy\\n     hg\")]"
      ]
     },
     "execution_count": 4,
     "metadata": {},
     "output_type": "execute_result"
    }
   ],
   "source": [
    "from langchain_community.document_loaders import TextLoader\n",
    "\n",
    "loader = TextLoader('hi.txt')\n",
    "docs = loader.load()\n",
    "docs"
   ]
  },
  {
   "cell_type": "code",
   "execution_count": 5,
   "id": "7039c48d",
   "metadata": {},
   "outputs": [
    {
     "name": "stderr",
     "output_type": "stream",
     "text": [
      "Created a chunk of size 11, which is longer than the specified 10\n",
      "Created a chunk of size 12, which is longer than the specified 10\n",
      "Created a chunk of size 13, which is longer than the specified 10\n",
      "Created a chunk of size 12, which is longer than the specified 10\n",
      "Created a chunk of size 13, which is longer than the specified 10\n",
      "Created a chunk of size 13, which is longer than the specified 10\n",
      "Created a chunk of size 14, which is longer than the specified 10\n",
      "Created a chunk of size 15, which is longer than the specified 10\n",
      "Created a chunk of size 15, which is longer than the specified 10\n",
      "Created a chunk of size 15, which is longer than the specified 10\n",
      "Created a chunk of size 15, which is longer than the specified 10\n",
      "Created a chunk of size 14, which is longer than the specified 10\n",
      "Created a chunk of size 16, which is longer than the specified 10\n",
      "Created a chunk of size 13, which is longer than the specified 10\n",
      "Created a chunk of size 12, which is longer than the specified 10\n",
      "Created a chunk of size 14, which is longer than the specified 10\n",
      "Created a chunk of size 15, which is longer than the specified 10\n",
      "Created a chunk of size 16, which is longer than the specified 10\n",
      "Created a chunk of size 16, which is longer than the specified 10\n",
      "Created a chunk of size 17, which is longer than the specified 10\n",
      "Created a chunk of size 18, which is longer than the specified 10\n",
      "Created a chunk of size 18, which is longer than the specified 10\n",
      "Created a chunk of size 18, which is longer than the specified 10\n",
      "Created a chunk of size 18, which is longer than the specified 10\n",
      "Created a chunk of size 18, which is longer than the specified 10\n",
      "Created a chunk of size 13, which is longer than the specified 10\n",
      "Created a chunk of size 13, which is longer than the specified 10\n",
      "Created a chunk of size 12, which is longer than the specified 10\n",
      "Created a chunk of size 11, which is longer than the specified 10\n",
      "Created a chunk of size 14, which is longer than the specified 10\n",
      "Created a chunk of size 15, which is longer than the specified 10\n"
     ]
    },
    {
     "data": {
      "text/plain": [
       "[Document(metadata={'source': 'hi.txt'}, page_content='vnvp e\\ne r'),\n",
       " Document(metadata={'source': 'hi.txt'}, page_content='tfg\\n bknt'),\n",
       " Document(metadata={'source': 'hi.txt'}, page_content='ojggg\\n g'),\n",
       " Document(metadata={'source': 'hi.txt'}, page_content='g\\n gggg'),\n",
       " Document(metadata={'source': 'hi.txt'}, page_content='gg\\n ggg'),\n",
       " Document(metadata={'source': 'hi.txt'}, page_content='gggg'),\n",
       " Document(metadata={'source': 'hi.txt'}, page_content='ggggg'),\n",
       " Document(metadata={'source': 'hi.txt'}, page_content='ggggvf'),\n",
       " Document(metadata={'source': 'hi.txt'}, page_content='vnfsjbv'),\n",
       " Document(metadata={'source': 'hi.txt'}, page_content='foubv;'),\n",
       " Document(metadata={'source': 'hi.txt'}, page_content='fu b;'),\n",
       " Document(metadata={'source': 'hi.txt'}, page_content='9vvr'),\n",
       " Document(metadata={'source': 'hi.txt'}, page_content=';vb;ouv'),\n",
       " Document(metadata={'source': 'hi.txt'}, page_content=\"nnbnv'pb\"),\n",
       " Document(metadata={'source': 'hi.txt'}, page_content=\"ir'pvjev\"),\n",
       " Document(metadata={'source': 'hi.txt'}, page_content='biprn'),\n",
       " Document(metadata={'source': 'hi.txt'}, page_content='brblrf'),\n",
       " Document(metadata={'source': 'hi.txt'}, page_content='bknto'),\n",
       " Document(metadata={'source': 'hi.txt'}, page_content='jggggg'),\n",
       " Document(metadata={'source': 'hi.txt'}, page_content='ggg'),\n",
       " Document(metadata={'source': 'hi.txt'}, page_content='gggg'),\n",
       " Document(metadata={'source': 'hi.txt'}, page_content='gggg'),\n",
       " Document(metadata={'source': 'hi.txt'}, page_content='ggggg'),\n",
       " Document(metadata={'source': 'hi.txt'}, page_content='gggggvf f'),\n",
       " Document(metadata={'source': 'hi.txt'}, page_content='kntf'),\n",
       " Document(metadata={'source': 'hi.txt'}, page_content='k tpdf n'),\n",
       " Document(metadata={'source': 'hi.txt'}, page_content='fun'),\n",
       " Document(metadata={'source': 'hi.txt'}, page_content='n'),\n",
       " Document(metadata={'source': 'hi.txt'}, page_content='n'),\n",
       " Document(metadata={'source': 'hi.txt'}, page_content='borbn'),\n",
       " Document(metadata={'source': 'hi.txt'}, page_content='obnr\\\\ [o'),\n",
       " Document(metadata={'source': 'hi.txt'}, page_content='nbrpfnr'),\n",
       " Document(metadata={'source': 'hi.txt'}, page_content='inrpinbh'),\n",
       " Document(metadata={'source': 'hi.txt'}, page_content='ve8 by97'),\n",
       " Document(metadata={'source': 'hi.txt'}, page_content='trtb09vty'),\n",
       " Document(metadata={'source': 'hi.txt'}, page_content='w9cv9 7gs'),\n",
       " Document(metadata={'source': 'hi.txt'}, page_content=\"9v7 d hv'\"),\n",
       " Document(metadata={'source': 'hi.txt'}, page_content='edj hr ch'),\n",
       " Document(metadata={'source': 'hi.txt'}, page_content='bi;rhdgrw'),\n",
       " Document(metadata={'source': 'hi.txt'}, page_content='iuoshviv'),\n",
       " Document(metadata={'source': 'hi.txt'}, page_content='nfkvweivbr'),\n",
       " Document(metadata={'source': 'hi.txt'}, page_content='iubirwb'),\n",
       " Document(metadata={'source': 'hi.txt'}, page_content='pebni b'),\n",
       " Document(metadata={'source': 'hi.txt'}, page_content='brb w'),\n",
       " Document(metadata={'source': 'hi.txt'}, page_content='b w'),\n",
       " Document(metadata={'source': 'hi.txt'}, page_content='w'),\n",
       " Document(metadata={'source': 'hi.txt'}, page_content='d berief'),\n",
       " Document(metadata={'source': 'hi.txt'}, page_content='dkfnp if'),\n",
       " Document(metadata={'source': 'hi.txt'}, page_content='nnnnnnnnn'),\n",
       " Document(metadata={'source': 'hi.txt'}, page_content='nnnnnnnnn'),\n",
       " Document(metadata={'source': 'hi.txt'}, page_content='nnnnnnnnnn'),\n",
       " Document(metadata={'source': 'hi.txt'}, page_content='nnnnnnnnnvn'),\n",
       " Document(metadata={'source': 'hi.txt'}, page_content='ispvn spifb'),\n",
       " Document(metadata={'source': 'hi.txt'}, page_content='ifn ipfsbi'),\n",
       " Document(metadata={'source': 'hi.txt'}, page_content='pfsn pdini'),\n",
       " Document(metadata={'source': 'hi.txt'}, page_content='pnpin ipnf'),\n",
       " Document(metadata={'source': 'hi.txt'}, page_content='pibif'),\n",
       " Document(metadata={'source': 'hi.txt'}, page_content='b dx g'),\n",
       " Document(metadata={'source': 'hi.txt'}, page_content='e dg'),\n",
       " Document(metadata={'source': 'hi.txt'}, page_content='g'),\n",
       " Document(metadata={'source': 'hi.txt'}, page_content='g'),\n",
       " Document(metadata={'source': 'hi.txt'}, page_content='edgc'),\n",
       " Document(metadata={'source': 'hi.txt'}, page_content='egd gc'),\n",
       " Document(metadata={'source': 'hi.txt'}, page_content=']'),\n",
       " Document(metadata={'source': 'hi.txt'}, page_content='vrgr'),\n",
       " Document(metadata={'source': 'hi.txt'}, page_content='rmhgy'),\n",
       " Document(metadata={'source': 'hi.txt'}, page_content='hg')]"
      ]
     },
     "execution_count": 5,
     "metadata": {},
     "output_type": "execute_result"
    }
   ],
   "source": [
    "from langchain_text_splitters import CharacterTextSplitter\n",
    "text_splitter = CharacterTextSplitter(separator=\"\\n\",chunk_size=10,chunk_overlap=2)\n",
    "text_splitter.split_documents(docs)"
   ]
  }
 ],
 "metadata": {
  "kernelspec": {
   "display_name": "my_env",
   "language": "python",
   "name": "python3"
  },
  "language_info": {
   "codemirror_mode": {
    "name": "ipython",
    "version": 3
   },
   "file_extension": ".py",
   "mimetype": "text/x-python",
   "name": "python",
   "nbconvert_exporter": "python",
   "pygments_lexer": "ipython3",
   "version": "3.10.0"
  }
 },
 "nbformat": 4,
 "nbformat_minor": 5
}
