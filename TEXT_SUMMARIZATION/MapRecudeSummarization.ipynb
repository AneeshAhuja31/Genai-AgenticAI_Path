{
 "cells": [
  {
   "cell_type": "markdown",
   "id": "bc4a19c3",
   "metadata": {},
   "source": [
    "# Map reduce to Summarize Large Documents\n",
    "A two-step summarization method inspired by the MapReduce paradigm:\n",
    "\n",
    "- Map: Generate individual summaries of smaller chunks or documents.\n",
    "\n",
    "- Reduce: Aggregate those individual summaries into a final overall summary.\n",
    "\n",
    "## How it works:\n",
    "\n",
    "- Step 1 (Map): Split text into chunks and summarize each chunk.\n",
    "\n",
    "- Step 2 (Reduce): Combine those chunk summaries into a final global summary.\n",
    "\n",
    "## Pros:\n",
    "\n",
    "1. Scales to larger corpora.\n",
    "\n",
    "2. Can handle more content than stuffing.\n",
    "\n",
    "3. More structured and reliable for long documents.\n",
    "\n",
    "## Cons:\n",
    "\n",
    "- Slower due to multiple model calls.\n",
    "\n",
    "- Slight loss of global context."
   ]
  },
  {
   "cell_type": "code",
   "execution_count": 2,
   "id": "d03b81b5",
   "metadata": {},
   "outputs": [
    {
     "data": {
      "text/plain": [
       "[Document(metadata={'producer': 'PyFPDF 1.7.2 http://pyfpdf.googlecode.com/', 'creator': 'PyPDF', 'creationdate': 'D:20250613071130', 'source': 'APJ_Abdul_Kalam_Long_Speech.pdf', 'total_pages': 3, 'page': 0, 'page_label': '1'}, page_content='Speech by Dr. A.P.J. Abdul Kalam\\nMy dear young friends,\\nI am delighted to address you today. It gives me immense pleasure to stand before the bright minds\\nof the nation  the youth of India, the true strength of our society.\\nDream, dream, dream. Dreams transform into thoughts and thoughts result in action. You have to\\ndream before your dreams can come true. Great dreams of great dreamers are always transcended.\\nLet me share with you a vision. The vision of a developed India. An India that is free from poverty,\\nfree from illiteracy, and free from corruption. An India where every citizen has access to clean water,\\nquality education, affordable healthcare, and opportunities for growth. This vision can only be\\nrealized when each one of us decides to be a part of the change.\\nMy message, especially to young people, is to have courage to think differently, to invent, to travel\\nthe unexplored path, to discover the impossible and to conquer the problems and succeed. These\\nare great qualities that they must work towards. This is my message to the young people.\\nBe active! Take responsibility! Work with integrity and succeed with integrity.\\nIf you want to shine like the sun, first burn like the sun. To achieve success, you must be willing to\\nface challenges. Struggles are a part of life. They are not meant to paralyze you, but to help you\\ndiscover who you are. Every pain you endure carves a better version of you.\\nEducation is the most powerful weapon which you can use to change the world. When learning is\\nPage 1'),\n",
       " Document(metadata={'producer': 'PyFPDF 1.7.2 http://pyfpdf.googlecode.com/', 'creator': 'PyPDF', 'creationdate': 'D:20250613071130', 'source': 'APJ_Abdul_Kalam_Long_Speech.pdf', 'total_pages': 3, 'page': 1, 'page_label': '2'}, page_content='Speech by Dr. A.P.J. Abdul Kalam\\ncreative, it leads to thinking. Thinking provides knowledge. Knowledge makes you great.\\nMy young friends, never stop fighting until you arrive at your destined place  that is, the unique you.\\nHave an aim in life, continuously acquire knowledge, work hard, and have perseverance to realize\\nthe great life.\\nI want to leave you with five important points to ponder and practice:\\n1. Aim high. Set your goals far above the ground. The higher you aim, the greater you achieve.\\n2. Acquire knowledge. Read books, explore science and technology, learn history and understand\\nyour culture.\\n3. Work hard. Nothing worthwhile comes easy. Hard work, with smart direction, always leads to\\nresults.\\n4. Be righteous. Integrity in thought and action is the foundation of a great character.\\n5. Never give up. Failures are stepping stones. Learn from them and move forward with renewed\\nstrength.\\nOne of the best ways to achieve national transformation is to build a generation of empowered\\nyouth. You are the ignited minds of India. You are the future of our country. The energy, the\\ncreativity, the passion that resides within each one of you can shape our nations destiny.\\nFinally, remember this  the nation will be great only when all of us  individually and collectively \\nbelieve in ourselves, believe in our dreams, and work together for the betterment of our society.\\nMay you rise with the sun of hope and walk the path of courage and commitment.\\nPage 2'),\n",
       " Document(metadata={'producer': 'PyFPDF 1.7.2 http://pyfpdf.googlecode.com/', 'creator': 'PyPDF', 'creationdate': 'D:20250613071130', 'source': 'APJ_Abdul_Kalam_Long_Speech.pdf', 'total_pages': 3, 'page': 2, 'page_label': '3'}, page_content='Speech by Dr. A.P.J. Abdul Kalam\\nThank you and Jai Hind!\\nPage 3')]"
      ]
     },
     "execution_count": 2,
     "metadata": {},
     "output_type": "execute_result"
    }
   ],
   "source": [
    "from langchain.text_splitter import RecursiveCharacterTextSplitter\n",
    "from langchain_community.document_loaders import PyPDFLoader\n",
    "\n",
    "loader = PyPDFLoader(\"APJ_Abdul_Kalam_Long_Speech.pdf\")\n",
    "docs = loader.load_and_split()\n",
    "docs"
   ]
  },
  {
   "cell_type": "code",
   "execution_count": 3,
   "id": "c09aae56",
   "metadata": {},
   "outputs": [],
   "source": [
    "from langchain.prompts import PromptTemplate\n",
    "template = \"\"\"\n",
    "Write a concise and short summary of the following speech,\n",
    "Speech : {text}\n",
    "\n",
    "\"\"\"\n",
    "prompt = PromptTemplate(input_variables=['text'],\n",
    "                        template=template)\n"
   ]
  },
  {
   "cell_type": "code",
   "execution_count": 4,
   "id": "2f5feabc",
   "metadata": {},
   "outputs": [],
   "source": [
    "import os\n",
    "from dotenv import load_dotenv\n",
    "load_dotenv()\n",
    "from langchain_groq import ChatGroq\n",
    "api_key = os.getenv(\"GROQ_API_KEY\")\n",
    "llm = ChatGroq(api_key=api_key,model=\"Llama3-8b-8192\")"
   ]
  },
  {
   "cell_type": "code",
   "execution_count": 6,
   "id": "cb534708",
   "metadata": {},
   "outputs": [
    {
     "data": {
      "text/plain": [
       "[Document(metadata={'producer': 'PyFPDF 1.7.2 http://pyfpdf.googlecode.com/', 'creator': 'PyPDF', 'creationdate': 'D:20250613071130', 'source': 'APJ_Abdul_Kalam_Long_Speech.pdf', 'total_pages': 3, 'page': 0, 'page_label': '1'}, page_content='Speech by Dr. A.P.J. Abdul Kalam\\nMy dear young friends,\\nI am delighted to address you today. It gives me immense pleasure to stand before the bright minds\\nof the nation  the youth of India, the true strength of our society.\\nDream, dream, dream. Dreams transform into thoughts and thoughts result in action. You have to\\ndream before your dreams can come true. Great dreams of great dreamers are always transcended.\\nLet me share with you a vision. The vision of a developed India. An India that is free from poverty,\\nfree from illiteracy, and free from corruption. An India where every citizen has access to clean water,\\nquality education, affordable healthcare, and opportunities for growth. This vision can only be\\nrealized when each one of us decides to be a part of the change.\\nMy message, especially to young people, is to have courage to think differently, to invent, to travel\\nthe unexplored path, to discover the impossible and to conquer the problems and succeed. These'),\n",
       " Document(metadata={'producer': 'PyFPDF 1.7.2 http://pyfpdf.googlecode.com/', 'creator': 'PyPDF', 'creationdate': 'D:20250613071130', 'source': 'APJ_Abdul_Kalam_Long_Speech.pdf', 'total_pages': 3, 'page': 0, 'page_label': '1'}, page_content='are great qualities that they must work towards. This is my message to the young people.\\nBe active! Take responsibility! Work with integrity and succeed with integrity.\\nIf you want to shine like the sun, first burn like the sun. To achieve success, you must be willing to\\nface challenges. Struggles are a part of life. They are not meant to paralyze you, but to help you\\ndiscover who you are. Every pain you endure carves a better version of you.\\nEducation is the most powerful weapon which you can use to change the world. When learning is\\nPage 1'),\n",
       " Document(metadata={'producer': 'PyFPDF 1.7.2 http://pyfpdf.googlecode.com/', 'creator': 'PyPDF', 'creationdate': 'D:20250613071130', 'source': 'APJ_Abdul_Kalam_Long_Speech.pdf', 'total_pages': 3, 'page': 1, 'page_label': '2'}, page_content='Speech by Dr. A.P.J. Abdul Kalam\\ncreative, it leads to thinking. Thinking provides knowledge. Knowledge makes you great.\\nMy young friends, never stop fighting until you arrive at your destined place  that is, the unique you.\\nHave an aim in life, continuously acquire knowledge, work hard, and have perseverance to realize\\nthe great life.\\nI want to leave you with five important points to ponder and practice:\\n1. Aim high. Set your goals far above the ground. The higher you aim, the greater you achieve.\\n2. Acquire knowledge. Read books, explore science and technology, learn history and understand\\nyour culture.\\n3. Work hard. Nothing worthwhile comes easy. Hard work, with smart direction, always leads to\\nresults.\\n4. Be righteous. Integrity in thought and action is the foundation of a great character.\\n5. Never give up. Failures are stepping stones. Learn from them and move forward with renewed\\nstrength.'),\n",
       " Document(metadata={'producer': 'PyFPDF 1.7.2 http://pyfpdf.googlecode.com/', 'creator': 'PyPDF', 'creationdate': 'D:20250613071130', 'source': 'APJ_Abdul_Kalam_Long_Speech.pdf', 'total_pages': 3, 'page': 1, 'page_label': '2'}, page_content='strength.\\nOne of the best ways to achieve national transformation is to build a generation of empowered\\nyouth. You are the ignited minds of India. You are the future of our country. The energy, the\\ncreativity, the passion that resides within each one of you can shape our nations destiny.\\nFinally, remember this  the nation will be great only when all of us  individually and collectively \\nbelieve in ourselves, believe in our dreams, and work together for the betterment of our society.\\nMay you rise with the sun of hope and walk the path of courage and commitment.\\nPage 2'),\n",
       " Document(metadata={'producer': 'PyFPDF 1.7.2 http://pyfpdf.googlecode.com/', 'creator': 'PyPDF', 'creationdate': 'D:20250613071130', 'source': 'APJ_Abdul_Kalam_Long_Speech.pdf', 'total_pages': 3, 'page': 2, 'page_label': '3'}, page_content='Speech by Dr. A.P.J. Abdul Kalam\\nThank you and Jai Hind!\\nPage 3')]"
      ]
     },
     "execution_count": 6,
     "metadata": {},
     "output_type": "execute_result"
    }
   ],
   "source": [
    "final_docs = RecursiveCharacterTextSplitter(chunk_size=1000,chunk_overlap=50).split_documents(docs)\n",
    "final_docs"
   ]
  },
  {
   "cell_type": "code",
   "execution_count": null,
   "id": "ffc51426",
   "metadata": {},
   "outputs": [],
   "source": [
    "chunks_prompt = \"\"\"\n",
    "Please summarize the below speech:\n",
    "Speech: {text}\n",
    "Summary:\n",
    "\"\"\"\n",
    "map_prompt_template = PromptTemplate(input_variables=['text'],template=chunks_prompt)"
   ]
  },
  {
   "cell_type": "code",
   "execution_count": 10,
   "id": "51d861c9",
   "metadata": {},
   "outputs": [],
   "source": [
    "final_prompt = '''\n",
    "Provide the final summary of the entire speech with these important points.\n",
    "Add a Motivational Title, start the precise summary with an introduction and provide the summary in number\n",
    "points for the speech.\n",
    "Speech: {text}\n",
    "'''\n",
    "final_prompt_template = PromptTemplate(input_variables=['text'],template=final_prompt)"
   ]
  },
  {
   "cell_type": "code",
   "execution_count": 11,
   "id": "0e1ccd5c",
   "metadata": {},
   "outputs": [
    {
     "name": "stderr",
     "output_type": "stream",
     "text": [
      "C:\\Users\\HP\\AppData\\Local\\Temp\\ipykernel_956\\1187188984.py:9: LangChainDeprecationWarning: The method `Chain.run` was deprecated in langchain 0.1.0 and will be removed in 1.0. Use :meth:`~invoke` instead.\n",
      "  output = summary_chain.run(final_docs)\n"
     ]
    },
    {
     "name": "stdout",
     "output_type": "stream",
     "text": [
      "\n",
      "\n",
      "\u001b[1m> Entering new MapReduceDocumentsChain chain...\u001b[0m\n",
      "\n",
      "\n",
      "\u001b[1m> Entering new LLMChain chain...\u001b[0m\n",
      "Prompt after formatting:\n",
      "\u001b[32;1m\u001b[1;3m\n",
      "Please summarize the below speech:\n",
      "Speech: Speech by Dr. A.P.J. Abdul Kalam\n",
      "My dear young friends,\n",
      "I am delighted to address you today. It gives me immense pleasure to stand before the bright minds\n",
      "of the nation  the youth of India, the true strength of our society.\n",
      "Dream, dream, dream. Dreams transform into thoughts and thoughts result in action. You have to\n",
      "dream before your dreams can come true. Great dreams of great dreamers are always transcended.\n",
      "Let me share with you a vision. The vision of a developed India. An India that is free from poverty,\n",
      "free from illiteracy, and free from corruption. An India where every citizen has access to clean water,\n",
      "quality education, affordable healthcare, and opportunities for growth. This vision can only be\n",
      "realized when each one of us decides to be a part of the change.\n",
      "My message, especially to young people, is to have courage to think differently, to invent, to travel\n",
      "the unexplored path, to discover the impossible and to conquer the problems and succeed. These\n",
      "Summaryy:\n",
      "\u001b[0m\n",
      "Prompt after formatting:\n",
      "\u001b[32;1m\u001b[1;3m\n",
      "Please summarize the below speech:\n",
      "Speech: are great qualities that they must work towards. This is my message to the young people.\n",
      "Be active! Take responsibility! Work with integrity and succeed with integrity.\n",
      "If you want to shine like the sun, first burn like the sun. To achieve success, you must be willing to\n",
      "face challenges. Struggles are a part of life. They are not meant to paralyze you, but to help you\n",
      "discover who you are. Every pain you endure carves a better version of you.\n",
      "Education is the most powerful weapon which you can use to change the world. When learning is\n",
      "Page 1\n",
      "Summaryy:\n",
      "\u001b[0m\n",
      "Prompt after formatting:\n",
      "\u001b[32;1m\u001b[1;3m\n",
      "Please summarize the below speech:\n",
      "Speech: Speech by Dr. A.P.J. Abdul Kalam\n",
      "creative, it leads to thinking. Thinking provides knowledge. Knowledge makes you great.\n",
      "My young friends, never stop fighting until you arrive at your destined place  that is, the unique you.\n",
      "Have an aim in life, continuously acquire knowledge, work hard, and have perseverance to realize\n",
      "the great life.\n",
      "I want to leave you with five important points to ponder and practice:\n",
      "1. Aim high. Set your goals far above the ground. The higher you aim, the greater you achieve.\n",
      "2. Acquire knowledge. Read books, explore science and technology, learn history and understand\n",
      "your culture.\n",
      "3. Work hard. Nothing worthwhile comes easy. Hard work, with smart direction, always leads to\n",
      "results.\n",
      "4. Be righteous. Integrity in thought and action is the foundation of a great character.\n",
      "5. Never give up. Failures are stepping stones. Learn from them and move forward with renewed\n",
      "strength.\n",
      "Summaryy:\n",
      "\u001b[0m\n",
      "Prompt after formatting:\n",
      "\u001b[32;1m\u001b[1;3m\n",
      "Please summarize the below speech:\n",
      "Speech: strength.\n",
      "One of the best ways to achieve national transformation is to build a generation of empowered\n",
      "youth. You are the ignited minds of India. You are the future of our country. The energy, the\n",
      "creativity, the passion that resides within each one of you can shape our nations destiny.\n",
      "Finally, remember this  the nation will be great only when all of us  individually and collectively \n",
      "believe in ourselves, believe in our dreams, and work together for the betterment of our society.\n",
      "May you rise with the sun of hope and walk the path of courage and commitment.\n",
      "Page 2\n",
      "Summaryy:\n",
      "\u001b[0m\n",
      "Prompt after formatting:\n",
      "\u001b[32;1m\u001b[1;3m\n",
      "Please summarize the below speech:\n",
      "Speech: Speech by Dr. A.P.J. Abdul Kalam\n",
      "Thank you and Jai Hind!\n",
      "Page 3\n",
      "Summaryy:\n",
      "\u001b[0m\n",
      "\n",
      "\u001b[1m> Finished chain.\u001b[0m\n",
      "\n",
      "\n",
      "\u001b[1m> Entering new LLMChain chain...\u001b[0m\n",
      "Prompt after formatting:\n",
      "\u001b[32;1m\u001b[1;3m\n",
      "Provide the final summary of the entire speech with these important points.\n",
      "Add a Motivational Title, start the precise summary with an introduction and provide the summary in number\n",
      "points for the speech.\n",
      "Speech: Dr. A.P.J. Abdul Kalam's speech to young people in India emphasizes the importance of dreaming big and taking action to achieve their goals. He shares his vision of a developed India, free from poverty, illiteracy, and corruption, where every citizen has access to basic necessities and opportunities for growth. He encourages the youth to be part of the change and to have the courage to think differently, invent, and explore new paths to conquer problems and succeed.\n",
      "\n",
      "Here is a summary of the speech:\n",
      "\n",
      "The speaker is addressing young people and emphasizes the importance of developing certain qualities to achieve success. They urge the young people to:\n",
      "\n",
      "* Be active and take responsibility\n",
      "* Work with integrity and succeed with integrity\n",
      "* Be willing to face challenges and struggles, which are a natural part of life and can help them discover who they are and become a better version of themselves\n",
      "* Value education as a powerful tool to change the world\n",
      "\n",
      "The speaker suggests that success is not achieved easily and that one must be willing to \"burn like the sun\" in order to \"shine like the sun\".\n",
      "\n",
      "Here is a summary of the speech by Dr. A.P.J. Abdul Kalam:\n",
      "\n",
      "Dr. Kalam emphasizes the importance of creativity, thinking, and continuous learning, which lead to knowledge and ultimately make one great. He encourages young people to have a clear aim in life, work hard, and persevere to achieve their goals. He also provides five key points to follow:\n",
      "\n",
      "1. Aim high and set goals that challenge you.\n",
      "2. Acquire knowledge through reading, exploring science and technology, and learning about history and culture.\n",
      "3. Work hard, as nothing worthwhile comes easily.\n",
      "4. Maintain integrity and be righteous in thought and action.\n",
      "5. Never give up, even in the face of failure, and learn from your mistakes to move forward with renewed strength.\n",
      "\n",
      "Overall, Dr. Kalam's speech is a motivational call to action, urging young people to strive for greatness and never stop working towards their goals.\n",
      "\n",
      "The speech emphasizes the importance of empowering youth to achieve national transformation. It highlights that youth are the future of the country, with their energy, creativity, and passion having the potential to shape the nation's destiny. The speech also stresses the importance of individual and collective self-belief, pursuing one's dreams, and working together for the betterment of society. Ultimately, the speech encourages youth to rise with hope and walk the path of courage and commitment.\n",
      "\n",
      "I apologize, but it seems that you haven't provided the speech by Dr. A.P.J. Abdul Kalam. The text you provided only includes \"Speech: Speech by Dr. A.P.J. Abdul Kalam, Thank you and Jai Hind! Page 3, Summaryy:\" which is not a complete speech. If you could provide the full speech, I would be happy to summarize it for you.\n",
      "\u001b[0m\n",
      "\n",
      "\u001b[1m> Finished chain.\u001b[0m\n",
      "\n",
      "\u001b[1m> Finished chain.\u001b[0m\n"
     ]
    },
    {
     "data": {
      "text/plain": [
       "'I apologize for the mistake. Since you haven\\'t provided the full speech, I will provide a motivational title and a summary based on the points you provided.\\n\\n**Motivational Title:** \"Empowering the Future: Unlocking the Power of Youth\"\\n\\n**Summary:**\\n\\nHere are the key points from the speech:\\n\\n1. **Dream Big**: The speaker emphasizes the importance of developing a clear aim in life and setting goals that challenge you.\\n2. **Acquire Knowledge**: He encourages young people to acquire knowledge through reading, exploring science and technology, and learning about history and culture.\\n3. **Work Hard**: Nothing worthwhile comes easily, and perseverance is key to achieving success.\\n4. **Maintain Integrity**: The speaker stresses the importance of maintaining integrity and being righteous in thought and action.\\n5. **Never Give Up**: He encourages young people to learn from their mistakes and never give up in the face of failure.\\n\\n**Additional Points:**\\n\\n* **Take Responsibility**: The speaker urges young people to be active and take responsibility for their actions.\\n* **Value Education**: He emphasizes the importance of education as a powerful tool to change the world.\\n* **Be Courageous**: He encourages young people to think differently, invent, and explore new paths to conquer problems and succeed.\\n* **Empowerment**: The speaker believes that youth are the future of the country and have the potential to shape the nation\\'s destiny.\\n\\nOverall, the speech is a motivational call to action, encouraging young people to strive for greatness, take responsibility, and work towards their goals with determination and perseverance.'"
      ]
     },
     "execution_count": 11,
     "metadata": {},
     "output_type": "execute_result"
    }
   ],
   "source": [
    "from langchain.chains.summarize import load_summarize_chain\n",
    "summary_chain = load_summarize_chain(\n",
    "    llm=llm,\n",
    "    chain_type='map_reduce',\n",
    "    map_prompt = map_prompt_template, #used to give summary of the smaller chunks\n",
    "    combine_prompt =final_prompt_template, #all the summary will be combined and sent to this template\n",
    "    verbose=True\n",
    ")\n",
    "output = summary_chain.run(final_docs)\n",
    "output\n"
   ]
  },
  {
   "cell_type": "code",
   "execution_count": null,
   "id": "2ef4cc63",
   "metadata": {},
   "outputs": [],
   "source": []
  }
 ],
 "metadata": {
  "kernelspec": {
   "display_name": "my_env",
   "language": "python",
   "name": "python3"
  },
  "language_info": {
   "codemirror_mode": {
    "name": "ipython",
    "version": 3
   },
   "file_extension": ".py",
   "mimetype": "text/x-python",
   "name": "python",
   "nbconvert_exporter": "python",
   "pygments_lexer": "ipython3",
   "version": "3.10.0"
  }
 },
 "nbformat": 4,
 "nbformat_minor": 5
}
