{
 "cells": [
  {
   "cell_type": "markdown",
   "id": "19eebf0e",
   "metadata": {},
   "source": [
    "# Refine Chain SUmmarization\n",
    "The Refine Chain is a summarization technique used in LangChain for iterative summarization — it incrementally builds a final summary by refining a base summary with new context, chunk by chunk.\n",
    "## How It Works:\n",
    "1. Initial Summary (Base):\n",
    "- Start by summarizing the first document chunk.\n",
    "\n",
    "2. Refinement Loop:\n",
    "For each subsequent chunk, refine the existing summary using both:\n",
    "- The current summary, and\n",
    "- The new document chunk.\n",
    "\n",
    "3. The LLM is prompted with:\n",
    "- The existing summary,\n",
    "- The new text, and\n",
    "- Instructions to improve or modify the summary accordingly."
   ]
  },
  {
   "cell_type": "code",
   "execution_count": 6,
   "id": "c0ea92ab",
   "metadata": {},
   "outputs": [
    {
     "data": {
      "text/plain": [
       "[Document(metadata={'producer': 'PyFPDF 1.7.2 http://pyfpdf.googlecode.com/', 'creator': 'PyPDF', 'creationdate': 'D:20250613071130', 'source': 'APJ_Abdul_Kalam_Long_Speech.pdf', 'total_pages': 3, 'page': 0, 'page_label': '1'}, page_content='Speech by Dr. A.P.J. Abdul Kalam\\nMy dear young friends,\\nI am delighted to address you today. It gives me immense pleasure to stand before the bright minds\\nof the nation  the youth of India, the true strength of our society.\\nDream, dream, dream. Dreams transform into thoughts and thoughts result in action. You have to\\ndream before your dreams can come true. Great dreams of great dreamers are always transcended.\\nLet me share with you a vision. The vision of a developed India. An India that is free from poverty,\\nfree from illiteracy, and free from corruption. An India where every citizen has access to clean water,\\nquality education, affordable healthcare, and opportunities for growth. This vision can only be\\nrealized when each one of us decides to be a part of the change.\\nMy message, especially to young people, is to have courage to think differently, to invent, to travel\\nthe unexplored path, to discover the impossible and to conquer the problems and succeed. These'),\n",
       " Document(metadata={'producer': 'PyFPDF 1.7.2 http://pyfpdf.googlecode.com/', 'creator': 'PyPDF', 'creationdate': 'D:20250613071130', 'source': 'APJ_Abdul_Kalam_Long_Speech.pdf', 'total_pages': 3, 'page': 0, 'page_label': '1'}, page_content='are great qualities that they must work towards. This is my message to the young people.\\nBe active! Take responsibility! Work with integrity and succeed with integrity.\\nIf you want to shine like the sun, first burn like the sun. To achieve success, you must be willing to\\nface challenges. Struggles are a part of life. They are not meant to paralyze you, but to help you\\ndiscover who you are. Every pain you endure carves a better version of you.\\nEducation is the most powerful weapon which you can use to change the world. When learning is\\nPage 1'),\n",
       " Document(metadata={'producer': 'PyFPDF 1.7.2 http://pyfpdf.googlecode.com/', 'creator': 'PyPDF', 'creationdate': 'D:20250613071130', 'source': 'APJ_Abdul_Kalam_Long_Speech.pdf', 'total_pages': 3, 'page': 1, 'page_label': '2'}, page_content='Speech by Dr. A.P.J. Abdul Kalam\\ncreative, it leads to thinking. Thinking provides knowledge. Knowledge makes you great.\\nMy young friends, never stop fighting until you arrive at your destined place  that is, the unique you.\\nHave an aim in life, continuously acquire knowledge, work hard, and have perseverance to realize\\nthe great life.\\nI want to leave you with five important points to ponder and practice:\\n1. Aim high. Set your goals far above the ground. The higher you aim, the greater you achieve.\\n2. Acquire knowledge. Read books, explore science and technology, learn history and understand\\nyour culture.\\n3. Work hard. Nothing worthwhile comes easy. Hard work, with smart direction, always leads to\\nresults.\\n4. Be righteous. Integrity in thought and action is the foundation of a great character.\\n5. Never give up. Failures are stepping stones. Learn from them and move forward with renewed\\nstrength.'),\n",
       " Document(metadata={'producer': 'PyFPDF 1.7.2 http://pyfpdf.googlecode.com/', 'creator': 'PyPDF', 'creationdate': 'D:20250613071130', 'source': 'APJ_Abdul_Kalam_Long_Speech.pdf', 'total_pages': 3, 'page': 1, 'page_label': '2'}, page_content='strength.\\nOne of the best ways to achieve national transformation is to build a generation of empowered\\nyouth. You are the ignited minds of India. You are the future of our country. The energy, the\\ncreativity, the passion that resides within each one of you can shape our nations destiny.\\nFinally, remember this  the nation will be great only when all of us  individually and collectively \\nbelieve in ourselves, believe in our dreams, and work together for the betterment of our society.\\nMay you rise with the sun of hope and walk the path of courage and commitment.\\nPage 2'),\n",
       " Document(metadata={'producer': 'PyFPDF 1.7.2 http://pyfpdf.googlecode.com/', 'creator': 'PyPDF', 'creationdate': 'D:20250613071130', 'source': 'APJ_Abdul_Kalam_Long_Speech.pdf', 'total_pages': 3, 'page': 2, 'page_label': '3'}, page_content='Speech by Dr. A.P.J. Abdul Kalam\\nThank you and Jai Hind!\\nPage 3')]"
      ]
     },
     "execution_count": 6,
     "metadata": {},
     "output_type": "execute_result"
    }
   ],
   "source": [
    "from langchain.text_splitter import RecursiveCharacterTextSplitter\n",
    "from langchain_community.document_loaders import PyPDFLoader\n",
    "\n",
    "loader = PyPDFLoader(\"APJ_Abdul_Kalam_Long_Speech.pdf\")\n",
    "docs = loader.load_and_split()\n",
    "final_docs = RecursiveCharacterTextSplitter(chunk_size=1000,chunk_overlap=50).split_documents(docs)\n",
    "final_docs"
   ]
  },
  {
   "cell_type": "code",
   "execution_count": 7,
   "id": "720a24a0",
   "metadata": {},
   "outputs": [],
   "source": [
    "# from langchain.prompts import PromptTemplate\n",
    "# template = \"\"\"\n",
    "# Write a concise and short summary of the following speech,\n",
    "# Speech : {text}\n",
    "\n",
    "# \"\"\"\n",
    "# prompt = PromptTemplate(input_variables=['text'],\n",
    "#                         template=template)\n"
   ]
  },
  {
   "cell_type": "code",
   "execution_count": 8,
   "id": "12945b88",
   "metadata": {},
   "outputs": [],
   "source": [
    "import os\n",
    "from dotenv import load_dotenv\n",
    "load_dotenv()\n",
    "from langchain_groq import ChatGroq\n",
    "api_key = os.getenv(\"GROQ_API_KEY\")\n",
    "llm = ChatGroq(api_key=api_key,model=\"Llama3-8b-8192\")"
   ]
  },
  {
   "cell_type": "code",
   "execution_count": 9,
   "id": "9d03566f",
   "metadata": {},
   "outputs": [
    {
     "name": "stdout",
     "output_type": "stream",
     "text": [
      "\n",
      "\n",
      "\u001b[1m> Entering new RefineDocumentsChain chain...\u001b[0m\n",
      "\n",
      "\n",
      "\u001b[1m> Entering new LLMChain chain...\u001b[0m\n",
      "Prompt after formatting:\n",
      "\u001b[32;1m\u001b[1;3mWrite a concise summary of the following:\n",
      "\n",
      "\n",
      "\"Speech by Dr. A.P.J. Abdul Kalam\n",
      "My dear young friends,\n",
      "I am delighted to address you today. It gives me immense pleasure to stand before the bright minds\n",
      "of the nation  the youth of India, the true strength of our society.\n",
      "Dream, dream, dream. Dreams transform into thoughts and thoughts result in action. You have to\n",
      "dream before your dreams can come true. Great dreams of great dreamers are always transcended.\n",
      "Let me share with you a vision. The vision of a developed India. An India that is free from poverty,\n",
      "free from illiteracy, and free from corruption. An India where every citizen has access to clean water,\n",
      "quality education, affordable healthcare, and opportunities for growth. This vision can only be\n",
      "realized when each one of us decides to be a part of the change.\n",
      "My message, especially to young people, is to have courage to think differently, to invent, to travel\n",
      "the unexplored path, to discover the impossible and to conquer the problems and succeed. These\"\n",
      "\n",
      "\n",
      "CONCISE SUMMARY:\u001b[0m\n",
      "\n",
      "\u001b[1m> Finished chain.\u001b[0m\n",
      "\n",
      "\n",
      "\u001b[1m> Entering new LLMChain chain...\u001b[0m\n",
      "Prompt after formatting:\n",
      "\u001b[32;1m\u001b[1;3mYour job is to produce a final summary.\n",
      "We have provided an existing summary up to a certain point: Dr. A.P.J. Abdul Kalam addresses young Indians, emphasizing the importance of dreaming and taking action to make those dreams a reality. He shares a vision for a developed India, free from poverty, illiteracy, and corruption, and encourages young people to have the courage to think differently, invent, and conquer problems to achieve success.\n",
      "We have the opportunity to refine the existing summary (only if needed) with some more context below.\n",
      "------------\n",
      "are great qualities that they must work towards. This is my message to the young people.\n",
      "Be active! Take responsibility! Work with integrity and succeed with integrity.\n",
      "If you want to shine like the sun, first burn like the sun. To achieve success, you must be willing to\n",
      "face challenges. Struggles are a part of life. They are not meant to paralyze you, but to help you\n",
      "discover who you are. Every pain you endure carves a better version of you.\n",
      "Education is the most powerful weapon which you can use to change the world. When learning is\n",
      "Page 1\n",
      "------------\n",
      "Given the new context, refine the original summary.\n",
      "If the context isn't useful, return the original summary.\u001b[0m\n",
      "\n",
      "\u001b[1m> Finished chain.\u001b[0m\n",
      "\n",
      "\n",
      "\u001b[1m> Entering new LLMChain chain...\u001b[0m\n",
      "Prompt after formatting:\n",
      "\u001b[32;1m\u001b[1;3mYour job is to produce a final summary.\n",
      "We have provided an existing summary up to a certain point: Here is the refined summary:\n",
      "\n",
      "Dr. A.P.J. Abdul Kalam addresses young Indians, emphasizing the importance of dreaming and taking action to make those dreams a reality. He shares a vision for a developed India, free from poverty, illiteracy, and corruption, and encourages young people to have the courage to think differently, invent, and conquer problems to achieve success. Kalam emphasizes the importance of personal qualities such as being active, taking responsibility, working with integrity, and facing challenges to achieve success. He notes that struggles and setbacks are a natural part of life, but they can help individuals discover their true potential and carve a better version of themselves. Additionally, Kalam highlights the transformative power of education, urging young people to use learning as a weapon to change the world.\n",
      "We have the opportunity to refine the existing summary (only if needed) with some more context below.\n",
      "------------\n",
      "Speech by Dr. A.P.J. Abdul Kalam\n",
      "creative, it leads to thinking. Thinking provides knowledge. Knowledge makes you great.\n",
      "My young friends, never stop fighting until you arrive at your destined place  that is, the unique you.\n",
      "Have an aim in life, continuously acquire knowledge, work hard, and have perseverance to realize\n",
      "the great life.\n",
      "I want to leave you with five important points to ponder and practice:\n",
      "1. Aim high. Set your goals far above the ground. The higher you aim, the greater you achieve.\n",
      "2. Acquire knowledge. Read books, explore science and technology, learn history and understand\n",
      "your culture.\n",
      "3. Work hard. Nothing worthwhile comes easy. Hard work, with smart direction, always leads to\n",
      "results.\n",
      "4. Be righteous. Integrity in thought and action is the foundation of a great character.\n",
      "5. Never give up. Failures are stepping stones. Learn from them and move forward with renewed\n",
      "strength.\n",
      "------------\n",
      "Given the new context, refine the original summary.\n",
      "If the context isn't useful, return the original summary.\u001b[0m\n",
      "\n",
      "\u001b[1m> Finished chain.\u001b[0m\n",
      "\n",
      "\n",
      "\u001b[1m> Entering new LLMChain chain...\u001b[0m\n",
      "Prompt after formatting:\n",
      "\u001b[32;1m\u001b[1;3mYour job is to produce a final summary.\n",
      "We have provided an existing summary up to a certain point: Based on the new context, I refined the original summary as follows:\n",
      "\n",
      "Dr. A.P.J. Abdul Kalam inspires young Indians to chase their dreams and strive for greatness. He emphasizes the importance of aiming high, acquiring knowledge, working hard, being righteous, and never giving up. Kalam believes that struggles and setbacks are an opportunity to learn and grow, and that education is the key to unlocking one's potential. He encourages young people to think creatively, use learning as a weapon to change the world, and to continuously work towards realizing their goals. By following these principles, Kalam believes that young Indians can achieve success and contribute to the development of a poverty-free, illiterate, and corruption-free India.\n",
      "We have the opportunity to refine the existing summary (only if needed) with some more context below.\n",
      "------------\n",
      "strength.\n",
      "One of the best ways to achieve national transformation is to build a generation of empowered\n",
      "youth. You are the ignited minds of India. You are the future of our country. The energy, the\n",
      "creativity, the passion that resides within each one of you can shape our nations destiny.\n",
      "Finally, remember this  the nation will be great only when all of us  individually and collectively \n",
      "believe in ourselves, believe in our dreams, and work together for the betterment of our society.\n",
      "May you rise with the sun of hope and walk the path of courage and commitment.\n",
      "Page 2\n",
      "------------\n",
      "Given the new context, refine the original summary.\n",
      "If the context isn't useful, return the original summary.\u001b[0m\n",
      "\n",
      "\u001b[1m> Finished chain.\u001b[0m\n",
      "\n",
      "\n",
      "\u001b[1m> Entering new LLMChain chain...\u001b[0m\n",
      "Prompt after formatting:\n",
      "\u001b[32;1m\u001b[1;3mYour job is to produce a final summary.\n",
      "We have provided an existing summary up to a certain point: Based on the new context, I refined the original summary as follows:\n",
      "\n",
      "Dr. A.P.J. Abdul Kalam inspires young Indians to chase their dreams and strive for greatness. He emphasizes the importance of aiming high, acquiring knowledge, working hard, being righteous, and never giving up. Kalam believes that struggles and setbacks are an opportunity to learn and grow, and that education is the key to unlocking one's potential. He encourages young people to think creatively, use learning as a weapon to change the world, and to continuously work towards realizing their goals. Moreover, he emphasizes the significance of building a generation of empowered youth to achieve national transformation. He believes that the nation will be great only when individuals and collectively believe in themselves, their dreams, and work together for the betterment of society. By following these principles, Kalam believes that young Indians can achieve success, contribute to the development of a poverty-free, illiterate, and corruption-free India, and shape the nation's destiny.\n",
      "We have the opportunity to refine the existing summary (only if needed) with some more context below.\n",
      "------------\n",
      "Speech by Dr. A.P.J. Abdul Kalam\n",
      "Thank you and Jai Hind!\n",
      "Page 3\n",
      "------------\n",
      "Given the new context, refine the original summary.\n",
      "If the context isn't useful, return the original summary.\u001b[0m\n",
      "\n",
      "\u001b[1m> Finished chain.\u001b[0m\n",
      "\n",
      "\u001b[1m> Finished chain.\u001b[0m\n"
     ]
    },
    {
     "data": {
      "text/plain": [
       "\"After reviewing the new context, I refined the original summary as follows:\\n\\nDr. A.P.J. Abdul Kalam inspires young Indians to chase their dreams and strive for greatness. He emphasizes the importance of aiming high, acquiring knowledge, working hard, being righteous, and never giving up. Kalam believes that struggles and setbacks are an opportunity to learn and grow, and that education is the key to unlocking one's potential. He encourages young people to think creatively, use learning as a weapon to change the world, and to continuously work towards realizing their goals. Moreover, he emphasizes the significance of building a generation of empowered youth to achieve national transformation. He believes that the nation will be great only when individuals and collectively believe in themselves, their dreams, and work together for the betterment of society. By following these principles, Kalam believes that young Indians can achieve success, contribute to the development of a poverty-free, illiterate, and corruption-free India, and shape the nation's destiny. In his speech, he concludes by expressing gratitude and wishing well for the country, reiterating his confidence in the potential of young Indians to bring about positive change.\\n\\nThe new context, specifically the concluding remarks, did not provide significant new information that would alter the overall message or key takeaways of Kalam's inspiring words. Therefore, the original summary remains largely intact, with only a minor addition to reflect the conclusion of his speech.\""
      ]
     },
     "execution_count": 9,
     "metadata": {},
     "output_type": "execute_result"
    }
   ],
   "source": [
    "from langchain.chains.summarize import load_summarize_chain\n",
    "chain = load_summarize_chain(\n",
    "    llm=llm,\n",
    "    chain_type='refine',\n",
    "    verbose=True\n",
    ")\n",
    "chain.run(final_docs)"
   ]
  }
 ],
 "metadata": {
  "kernelspec": {
   "display_name": "my_env",
   "language": "python",
   "name": "python3"
  },
  "language_info": {
   "codemirror_mode": {
    "name": "ipython",
    "version": 3
   },
   "file_extension": ".py",
   "mimetype": "text/x-python",
   "name": "python",
   "nbconvert_exporter": "python",
   "pygments_lexer": "ipython3",
   "version": "3.10.0"
  }
 },
 "nbformat": 4,
 "nbformat_minor": 5
}
