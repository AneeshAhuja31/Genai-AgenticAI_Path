{
 "cells": [
  {
   "cell_type": "markdown",
   "id": "45aed27b",
   "metadata": {},
   "source": [
    "In this all the documents are stuffed into one large entity.\n",
    "Due to which the document becomes very big"
   ]
  },
  {
   "cell_type": "markdown",
   "id": "66c3e845",
   "metadata": {},
   "source": []
  }
 ],
 "metadata": {
  "language_info": {
   "name": "python"
  }
 },
 "nbformat": 4,
 "nbformat_minor": 5
}
