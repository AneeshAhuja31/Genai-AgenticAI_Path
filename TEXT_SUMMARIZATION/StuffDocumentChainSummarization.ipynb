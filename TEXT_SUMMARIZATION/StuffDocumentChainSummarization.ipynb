{
 "cells": [
  {
   "cell_type": "markdown",
   "id": "45aed27b",
   "metadata": {},
   "source": [
    "# Stuff Documentation\n",
    "Stuffing means loading all relevant documents or text chunks into the prompt and passing them to the LLM at once, often for summarization or answering a question.\n",
    "\n",
    "## How it works:\n",
    "\n",
    "- Retrieve top-k relevant documents (using a vector store or search).\n",
    "\n",
    "- Concatenate them.\n",
    "\n",
    "- Feed them all together into a single prompt to the LLM.\n",
    "\n",
    "## Pros:\n",
    "\n",
    "1. Simple and direct.\n",
    "\n",
    "2. Useful for small document sets that fit within the context window.\n",
    "\n",
    "## Cons:\n",
    "\n",
    "1. Limited by the token limit of the model.\n",
    "\n",
    "2. Performance degrades with too much or irrelevant content (\"prompt stuffing\")."
   ]
  },
  {
   "cell_type": "code",
   "execution_count": 2,
   "id": "92db97a3",
   "metadata": {},
   "outputs": [
    {
     "data": {
      "text/plain": [
       "[Document(metadata={'producer': 'PyFPDF 1.7.2 http://pyfpdf.googlecode.com/', 'creator': 'PyPDF', 'creationdate': 'D:20250613071130', 'source': 'APJ_Abdul_Kalam_Long_Speech.pdf', 'total_pages': 3, 'page': 0, 'page_label': '1'}, page_content='Speech by Dr. A.P.J. Abdul Kalam\\nMy dear young friends,\\nI am delighted to address you today. It gives me immense pleasure to stand before the bright minds\\nof the nation  the youth of India, the true strength of our society.\\nDream, dream, dream. Dreams transform into thoughts and thoughts result in action. You have to\\ndream before your dreams can come true. Great dreams of great dreamers are always transcended.\\nLet me share with you a vision. The vision of a developed India. An India that is free from poverty,\\nfree from illiteracy, and free from corruption. An India where every citizen has access to clean water,\\nquality education, affordable healthcare, and opportunities for growth. This vision can only be\\nrealized when each one of us decides to be a part of the change.\\nMy message, especially to young people, is to have courage to think differently, to invent, to travel\\nthe unexplored path, to discover the impossible and to conquer the problems and succeed. These\\nare great qualities that they must work towards. This is my message to the young people.\\nBe active! Take responsibility! Work with integrity and succeed with integrity.\\nIf you want to shine like the sun, first burn like the sun. To achieve success, you must be willing to\\nface challenges. Struggles are a part of life. They are not meant to paralyze you, but to help you\\ndiscover who you are. Every pain you endure carves a better version of you.\\nEducation is the most powerful weapon which you can use to change the world. When learning is\\nPage 1'),\n",
       " Document(metadata={'producer': 'PyFPDF 1.7.2 http://pyfpdf.googlecode.com/', 'creator': 'PyPDF', 'creationdate': 'D:20250613071130', 'source': 'APJ_Abdul_Kalam_Long_Speech.pdf', 'total_pages': 3, 'page': 1, 'page_label': '2'}, page_content='Speech by Dr. A.P.J. Abdul Kalam\\ncreative, it leads to thinking. Thinking provides knowledge. Knowledge makes you great.\\nMy young friends, never stop fighting until you arrive at your destined place  that is, the unique you.\\nHave an aim in life, continuously acquire knowledge, work hard, and have perseverance to realize\\nthe great life.\\nI want to leave you with five important points to ponder and practice:\\n1. Aim high. Set your goals far above the ground. The higher you aim, the greater you achieve.\\n2. Acquire knowledge. Read books, explore science and technology, learn history and understand\\nyour culture.\\n3. Work hard. Nothing worthwhile comes easy. Hard work, with smart direction, always leads to\\nresults.\\n4. Be righteous. Integrity in thought and action is the foundation of a great character.\\n5. Never give up. Failures are stepping stones. Learn from them and move forward with renewed\\nstrength.\\nOne of the best ways to achieve national transformation is to build a generation of empowered\\nyouth. You are the ignited minds of India. You are the future of our country. The energy, the\\ncreativity, the passion that resides within each one of you can shape our nations destiny.\\nFinally, remember this  the nation will be great only when all of us  individually and collectively \\nbelieve in ourselves, believe in our dreams, and work together for the betterment of our society.\\nMay you rise with the sun of hope and walk the path of courage and commitment.\\nPage 2'),\n",
       " Document(metadata={'producer': 'PyFPDF 1.7.2 http://pyfpdf.googlecode.com/', 'creator': 'PyPDF', 'creationdate': 'D:20250613071130', 'source': 'APJ_Abdul_Kalam_Long_Speech.pdf', 'total_pages': 3, 'page': 2, 'page_label': '3'}, page_content='Speech by Dr. A.P.J. Abdul Kalam\\nThank you and Jai Hind!\\nPage 3')]"
      ]
     },
     "execution_count": 2,
     "metadata": {},
     "output_type": "execute_result"
    }
   ],
   "source": [
    "from langchain_community.document_loaders import PyPDFLoader\n",
    "\n",
    "loader = PyPDFLoader(\"APJ_Abdul_Kalam_Long_Speech.pdf\")\n",
    "docs = loader.load_and_split()\n",
    "docs"
   ]
  },
  {
   "cell_type": "code",
   "execution_count": 3,
   "id": "9c8b4437",
   "metadata": {},
   "outputs": [],
   "source": [
    "from langchain.prompts import PromptTemplate\n",
    "template = \"\"\"\n",
    "Write a concise and short summary of the following speech,\n",
    "Speech : {text}\n",
    "\n",
    "\"\"\"\n",
    "prompt = PromptTemplate(input_variables=['text'],\n",
    "                        template=template)\n"
   ]
  },
  {
   "cell_type": "code",
   "execution_count": 5,
   "id": "8ab7651c",
   "metadata": {},
   "outputs": [],
   "source": [
    "import os\n",
    "from dotenv import load_dotenv\n",
    "load_dotenv()\n",
    "from langchain_groq import ChatGroq\n",
    "api_key = os.getenv(\"GROQ_API_KEY\")\n",
    "llm = ChatGroq(api_key=api_key,model=\"Llama3-8b-8192\")"
   ]
  },
  {
   "cell_type": "code",
   "execution_count": 4,
   "id": "101927fd",
   "metadata": {},
   "outputs": [],
   "source": [
    "from langchain.chains.summarize import load_summarize_chain\n"
   ]
  },
  {
   "cell_type": "code",
   "execution_count": 6,
   "id": "ec5067a6",
   "metadata": {},
   "outputs": [
    {
     "name": "stderr",
     "output_type": "stream",
     "text": [
      "C:\\Users\\HP\\AppData\\Local\\Temp\\ipykernel_20228\\3649747942.py:3: LangChainDeprecationWarning: The method `Chain.run` was deprecated in langchain 0.1.0 and will be removed in 1.0. Use :meth:`~invoke` instead.\n",
      "  output_summary = chain.run(docs)\n"
     ]
    },
    {
     "name": "stdout",
     "output_type": "stream",
     "text": [
      "\n",
      "\n",
      "\u001b[1m> Entering new StuffDocumentsChain chain...\u001b[0m\n",
      "\n",
      "\n",
      "\u001b[1m> Entering new LLMChain chain...\u001b[0m\n",
      "Prompt after formatting:\n",
      "\u001b[32;1m\u001b[1;3m\n",
      "Write a concise and short summary of the following speech,\n",
      "Speech : Speech by Dr. A.P.J. Abdul Kalam\n",
      "My dear young friends,\n",
      "I am delighted to address you today. It gives me immense pleasure to stand before the bright minds\n",
      "of the nation  the youth of India, the true strength of our society.\n",
      "Dream, dream, dream. Dreams transform into thoughts and thoughts result in action. You have to\n",
      "dream before your dreams can come true. Great dreams of great dreamers are always transcended.\n",
      "Let me share with you a vision. The vision of a developed India. An India that is free from poverty,\n",
      "free from illiteracy, and free from corruption. An India where every citizen has access to clean water,\n",
      "quality education, affordable healthcare, and opportunities for growth. This vision can only be\n",
      "realized when each one of us decides to be a part of the change.\n",
      "My message, especially to young people, is to have courage to think differently, to invent, to travel\n",
      "the unexplored path, to discover the impossible and to conquer the problems and succeed. These\n",
      "are great qualities that they must work towards. This is my message to the young people.\n",
      "Be active! Take responsibility! Work with integrity and succeed with integrity.\n",
      "If you want to shine like the sun, first burn like the sun. To achieve success, you must be willing to\n",
      "face challenges. Struggles are a part of life. They are not meant to paralyze you, but to help you\n",
      "discover who you are. Every pain you endure carves a better version of you.\n",
      "Education is the most powerful weapon which you can use to change the world. When learning is\n",
      "Page 1\n",
      "\n",
      "Speech by Dr. A.P.J. Abdul Kalam\n",
      "creative, it leads to thinking. Thinking provides knowledge. Knowledge makes you great.\n",
      "My young friends, never stop fighting until you arrive at your destined place  that is, the unique you.\n",
      "Have an aim in life, continuously acquire knowledge, work hard, and have perseverance to realize\n",
      "the great life.\n",
      "I want to leave you with five important points to ponder and practice:\n",
      "1. Aim high. Set your goals far above the ground. The higher you aim, the greater you achieve.\n",
      "2. Acquire knowledge. Read books, explore science and technology, learn history and understand\n",
      "your culture.\n",
      "3. Work hard. Nothing worthwhile comes easy. Hard work, with smart direction, always leads to\n",
      "results.\n",
      "4. Be righteous. Integrity in thought and action is the foundation of a great character.\n",
      "5. Never give up. Failures are stepping stones. Learn from them and move forward with renewed\n",
      "strength.\n",
      "One of the best ways to achieve national transformation is to build a generation of empowered\n",
      "youth. You are the ignited minds of India. You are the future of our country. The energy, the\n",
      "creativity, the passion that resides within each one of you can shape our nations destiny.\n",
      "Finally, remember this  the nation will be great only when all of us  individually and collectively \n",
      "believe in ourselves, believe in our dreams, and work together for the betterment of our society.\n",
      "May you rise with the sun of hope and walk the path of courage and commitment.\n",
      "Page 2\n",
      "\n",
      "Speech by Dr. A.P.J. Abdul Kalam\n",
      "Thank you and Jai Hind!\n",
      "Page 3\n",
      "\n",
      "\u001b[0m\n",
      "\n",
      "\u001b[1m> Finished chain.\u001b[0m\n",
      "\n",
      "\u001b[1m> Finished chain.\u001b[0m\n"
     ]
    },
    {
     "data": {
      "text/plain": [
       "\"Here is a concise and short summary of the speech by Dr. A.P.J. Abdul Kalam:\\n\\nDr. Kalam addresses the youth of India, urging them to dream big and work towards making their dreams a reality. He shares a vision of a developed India, free from poverty, illiteracy, and corruption, where every citizen has access to basic needs and opportunities for growth. He emphasizes the importance of courage, thinking differently, and taking responsibility to create change. He also stresses the value of education, hard work, and perseverance, and shares five key points to achieve success: aim high, acquire knowledge, work hard, be righteous, and never give up. He concludes by emphasizing the importance of believing in oneself, one's dreams, and working together to shape the nation's destiny.\""
      ]
     },
     "execution_count": 6,
     "metadata": {},
     "output_type": "execute_result"
    }
   ],
   "source": [
    "#will combine all the documents and create a chain\n",
    "chain = load_summarize_chain(llm,chain_type='stuff',prompt=prompt,verbose=True)\n",
    "output_summary = chain.run(docs)\n",
    "output_summary"
   ]
  },
  {
   "cell_type": "code",
   "execution_count": null,
   "id": "bd7810cc",
   "metadata": {},
   "outputs": [],
   "source": []
  }
 ],
 "metadata": {
  "kernelspec": {
   "display_name": "my_env",
   "language": "python",
   "name": "python3"
  },
  "language_info": {
   "codemirror_mode": {
    "name": "ipython",
    "version": 3
   },
   "file_extension": ".py",
   "mimetype": "text/x-python",
   "name": "python",
   "nbconvert_exporter": "python",
   "pygments_lexer": "ipython3",
   "version": "3.10.0"
  }
 },
 "nbformat": 4,
 "nbformat_minor": 5
}
