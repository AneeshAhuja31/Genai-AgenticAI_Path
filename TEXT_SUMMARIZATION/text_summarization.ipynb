{
 "cells": [
  {
   "cell_type": "code",
   "execution_count": 3,
   "id": "47de0b92",
   "metadata": {},
   "outputs": [
    {
     "data": {
      "text/plain": [
       "True"
      ]
     },
     "execution_count": 3,
     "metadata": {},
     "output_type": "execute_result"
    }
   ],
   "source": [
    "import os\n",
    "from dotenv import load_dotenv\n",
    "load_dotenv()"
   ]
  },
  {
   "cell_type": "code",
   "execution_count": 4,
   "id": "103e93a3",
   "metadata": {},
   "outputs": [
    {
     "data": {
      "text/plain": [
       "ChatGroq(client=<groq.resources.chat.completions.Completions object at 0x00000246B38CB340>, async_client=<groq.resources.chat.completions.AsyncCompletions object at 0x00000246B38F07F0>, model_name='Llama3-8b-8192', model_kwargs={}, groq_api_key=SecretStr('**********'))"
      ]
     },
     "execution_count": 4,
     "metadata": {},
     "output_type": "execute_result"
    }
   ],
   "source": [
    "from langchain_groq import ChatGroq\n",
    "api_key = os.getenv(\"GROQ_API_KEY\")\n",
    "llm = ChatGroq(api_key=api_key,model=\"Llama3-8b-8192\")\n",
    "llm"
   ]
  },
  {
   "cell_type": "code",
   "execution_count": 5,
   "id": "731c7ca3",
   "metadata": {},
   "outputs": [],
   "source": [
    "from langchain.schema import AIMessage,HumanMessage,SystemMessage\n",
    "speech = \"\"\"\n",
    "My dear countrymen,\n",
    "I greet you all with warmth and gratitude. Over the past year, India has advanced with unwavering determination—transforming into a global tech powerhouse, delivering digital services to uplift the underprivileged, and strengthening our infrastructure across the nation.\n",
    "Yet our hearts echo with sorrow following the tragic plane crash in Ahmedabad—this loss is truly heartbreaking beyond words, and my deepest condolences go out to the families affected.\n",
    "In Kashmir’s Katra, we inaugurated major development projects, reaffirming our commitment to the prosperity of the region and the values of unity and peace.\n",
    "At the Paris conference, I outlined five global priorities to build disaster-resilient infrastructure, especially for coastal and island nations, showcasing India's commitment to a safer and sustainable future.\n",
    "Together, let us carry forward this momentum—embracing technology, mourning our losses with unity, standing firm for peace and prosperity, and leading global efforts in resilience. Let India’s spirit guide us toward a brighter, stronger tomorrow.\n",
    "Jai Hind 🇮🇳\n",
    "\"\"\""
   ]
  },
  {
   "cell_type": "code",
   "execution_count": 6,
   "id": "17ad96b0",
   "metadata": {},
   "outputs": [],
   "source": [
    "chat_message = [\n",
    "    SystemMessage(content=\"You are an expert with expertise in summarizing speeches\"),\n",
    "    HumanMessage(content=f\"Please provide a short and concise summary of the following speech: \\n Text: {speech}\")\n",
    "]"
   ]
  },
  {
   "cell_type": "code",
   "execution_count": 7,
   "id": "545124ae",
   "metadata": {},
   "outputs": [
    {
     "data": {
      "text/plain": [
       "224"
      ]
     },
     "execution_count": 7,
     "metadata": {},
     "output_type": "execute_result"
    }
   ],
   "source": [
    "llm.get_num_tokens(speech)"
   ]
  },
  {
   "cell_type": "code",
   "execution_count": 9,
   "id": "833d800d",
   "metadata": {},
   "outputs": [
    {
     "data": {
      "text/plain": [
       "AIMessage(content=\"Here is a concise summary of the speech:\\n\\nThe speaker greets the country with warmth and gratitude, highlighting India's progress in technology, digital services, and infrastructure development over the past year. However, they also express sorrow over the tragic plane crash in Ahmedabad and condolences to the affected families. The speaker mentions the inauguration of development projects in Kashmir, commitment to building disaster-resilient infrastructure, and India's global efforts towards a safer and sustainable future. The speech concludes by urging unity, embracing technology, and working towards a brighter and stronger tomorrow.\", additional_kwargs={}, response_metadata={'token_usage': {'completion_tokens': 111, 'prompt_tokens': 252, 'total_tokens': 363, 'completion_time': 0.0925, 'prompt_time': 0.031613473, 'queue_time': 0.24778749099999997, 'total_time': 0.124113473}, 'model_name': 'Llama3-8b-8192', 'system_fingerprint': 'fp_dadc9d6142', 'finish_reason': 'stop', 'logprobs': None}, id='run--dccf2b26-8efc-4166-beaa-1cb63a76157e-0', usage_metadata={'input_tokens': 252, 'output_tokens': 111, 'total_tokens': 363})"
      ]
     },
     "execution_count": 9,
     "metadata": {},
     "output_type": "execute_result"
    }
   ],
   "source": [
    "llm(chat_message)\n"
   ]
  },
  {
   "cell_type": "markdown",
   "id": "be3aa792",
   "metadata": {},
   "source": [
    "# PROMPT TEMPLATE TEXT SUMMARIZATION"
   ]
  },
  {
   "cell_type": "code",
   "execution_count": 10,
   "id": "100dc0c2",
   "metadata": {},
   "outputs": [
    {
     "data": {
      "text/plain": [
       "PromptTemplate(input_variables=['language', 'speech'], input_types={}, partial_variables={}, template='\\nWrite summary of the following speech:\\nSpeech: {speech}\\nTranslate the precise summary to {language}\\n')"
      ]
     },
     "execution_count": 10,
     "metadata": {},
     "output_type": "execute_result"
    }
   ],
   "source": [
    "from langchain.chains import LLMChain #used to create chain b/w llm and prompt template\n",
    "from langchain import PromptTemplate\n",
    "\n",
    "generictemplate =\"\"\"\n",
    "Write summary of the following speech:\n",
    "Speech: {speech}\n",
    "Translate the precise summary to {language}\n",
    "\"\"\"\n",
    "\n",
    "prompt=PromptTemplate(\n",
    "    input_variables=[\"speech\",\"language\"],\n",
    "    template=generictemplate\n",
    ")\n",
    "prompt"
   ]
  },
  {
   "cell_type": "code",
   "execution_count": 12,
   "id": "34dd8560",
   "metadata": {},
   "outputs": [
    {
     "data": {
      "text/plain": [
       "\"\\nWrite summary of the following speech:\\nSpeech: \\nMy dear countrymen,\\nI greet you all with warmth and gratitude. Over the past year, India has advanced with unwavering determination—transforming into a global tech powerhouse, delivering digital services to uplift the underprivileged, and strengthening our infrastructure across the nation.\\nYet our hearts echo with sorrow following the tragic plane crash in Ahmedabad—this loss is truly heartbreaking beyond words, and my deepest condolences go out to the families affected.\\nIn Kashmir’s Katra, we inaugurated major development projects, reaffirming our commitment to the prosperity of the region and the values of unity and peace.\\nAt the Paris conference, I outlined five global priorities to build disaster-resilient infrastructure, especially for coastal and island nations, showcasing India's commitment to a safer and sustainable future.\\nTogether, let us carry forward this momentum—embracing technology, mourning our losses with unity, standing firm for peace and prosperity, and leading global efforts in resilience. Let India’s spirit guide us toward a brighter, stronger tomorrow.\\nJai Hind 🇮🇳\\n\\nTranslate the precise summary to French\\n\""
      ]
     },
     "execution_count": 12,
     "metadata": {},
     "output_type": "execute_result"
    }
   ],
   "source": [
    "complete_prompt = prompt.format(speech=speech,language=\"French\")\n",
    "complete_prompt"
   ]
  },
  {
   "cell_type": "code",
   "execution_count": 13,
   "id": "ab0075dc",
   "metadata": {},
   "outputs": [
    {
     "name": "stderr",
     "output_type": "stream",
     "text": [
      "C:\\Users\\HP\\AppData\\Local\\Temp\\ipykernel_35652\\763879279.py:1: LangChainDeprecationWarning: The class `LLMChain` was deprecated in LangChain 0.1.17 and will be removed in 1.0. Use :meth:`~RunnableSequence, e.g., `prompt | llm`` instead.\n",
      "  llm_chain = LLMChain(llm=llm,prompt=prompt)\n",
      "C:\\Users\\HP\\AppData\\Local\\Temp\\ipykernel_35652\\763879279.py:2: LangChainDeprecationWarning: The method `Chain.run` was deprecated in langchain 0.1.0 and will be removed in 1.0. Use :meth:`~invoke` instead.\n",
      "  summary = llm_chain.run({\"speech\":speech,\"language\":\"French\"})\n"
     ]
    },
    {
     "data": {
      "text/plain": [
       "\"Summary:\\n\\nThe speaker addresses the country, acknowledging India's progress in technology, digital services, and infrastructure development. However, they express condolences for the tragic plane crash in Ahmedabad and highlight the inauguration of development projects in Kashmir, reaffirming the country's commitment to unity and peace. The speaker emphasizes the importance of disaster-resilient infrastructure and India's commitment to a safer and sustainable future.\\n\\nFrench translation:\\n\\nLe locuteur s'adresse au pays, reconnaissant les progrès de l'Inde en matière de technologie, de services numériques et de développement de l'infrastructure. Cependant, il exprime ses condoléances pour le crash d'avion tragique d'Ahmedabad et met en avant l'inauguration de projets de développement au Cachemire, réaffirmant l'engagement du pays pour l'unité et la paix. Le locuteur met l'accent sur l'importance d'infrastructures résistantes aux catastrophes et sur l'engagement de l'Inde pour un avenir plus sûr et plus durable.\""
      ]
     },
     "execution_count": 13,
     "metadata": {},
     "output_type": "execute_result"
    }
   ],
   "source": [
    "llm_chain = LLMChain(llm=llm,prompt=prompt)\n",
    "summary = llm_chain.run({\"speech\":speech,\"language\":\"French\"})\n",
    "summary"
   ]
  }
 ],
 "metadata": {
  "kernelspec": {
   "display_name": "my_env",
   "language": "python",
   "name": "python3"
  },
  "language_info": {
   "codemirror_mode": {
    "name": "ipython",
    "version": 3
   },
   "file_extension": ".py",
   "mimetype": "text/x-python",
   "name": "python",
   "nbconvert_exporter": "python",
   "pygments_lexer": "ipython3",
   "version": "3.10.0"
  }
 },
 "nbformat": 4,
 "nbformat_minor": 5
}
