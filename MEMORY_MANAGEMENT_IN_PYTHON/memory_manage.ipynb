{
 "cells": [
  {
   "cell_type": "markdown",
   "metadata": {},
   "source": [
    "# Memory Management\n",
    "Memory management in Python involves a combination of automatic garbage collection,reference counting, and various internal optimizations to efficiently manage memory allocation and deallocation."
   ]
  },
  {
   "cell_type": "markdown",
   "metadata": {},
   "source": [
    "# Reference Counting\n",
    "Reference counting is the primary method Python uses to manage memory. Each object in Python maintains a count of references pointing to it. When the reference count drops to zero, the memory occupied by the object is deallocated"
   ]
  },
  {
   "cell_type": "code",
   "execution_count": null,
   "metadata": {},
   "outputs": [
    {
     "name": "stdout",
     "output_type": "stream",
     "text": [
      "2\n"
     ]
    }
   ],
   "source": [
    "import sys\n",
    "a=[]\n",
    "print(sys.getrefcount(a)) # 2 because one ref from 'a' and one from getrefcount()\n"
   ]
  },
  {
   "cell_type": "code",
   "execution_count": 2,
   "metadata": {},
   "outputs": [
    {
     "name": "stdout",
     "output_type": "stream",
     "text": [
      "3\n"
     ]
    }
   ],
   "source": [
    "b=a\n",
    "print(sys.getrefcount(a))"
   ]
  },
  {
   "cell_type": "markdown",
   "metadata": {},
   "source": [
    "# Garbage Collection\n",
    "Python includes a cyclic garbage collector to handle reference cycles. Reference cycles occur when objects reference each other, preventing their reference counts from reaching zero"
   ]
  },
  {
   "cell_type": "code",
   "execution_count": 6,
   "metadata": {},
   "outputs": [],
   "source": [
    "import gc\n",
    "gc.enable()"
   ]
  },
  {
   "cell_type": "code",
   "execution_count": 7,
   "metadata": {},
   "outputs": [],
   "source": [
    "gc.disable()"
   ]
  },
  {
   "cell_type": "code",
   "execution_count": 8,
   "metadata": {},
   "outputs": [
    {
     "data": {
      "text/plain": [
       "1163"
      ]
     },
     "execution_count": 8,
     "metadata": {},
     "output_type": "execute_result"
    }
   ],
   "source": [
    "gc.collect()"
   ]
  },
  {
   "cell_type": "code",
   "execution_count": 9,
   "metadata": {},
   "outputs": [
    {
     "name": "stdout",
     "output_type": "stream",
     "text": [
      "[{'collections': 234, 'collected': 2430, 'uncollectable': 0}, {'collections': 21, 'collected': 509, 'uncollectable': 0}, {'collections': 2, 'collected': 1191, 'uncollectable': 0}]\n"
     ]
    }
   ],
   "source": [
    "# Get garbage collection stats \n",
    "print(gc.get_stats())"
   ]
  },
  {
   "cell_type": "code",
   "execution_count": 10,
   "metadata": {},
   "outputs": [
    {
     "name": "stdout",
     "output_type": "stream",
     "text": [
      "[]\n"
     ]
    }
   ],
   "source": [
    "print(gc.garbage)"
   ]
  },
  {
   "cell_type": "code",
   "execution_count": 12,
   "metadata": {},
   "outputs": [
    {
     "name": "stdout",
     "output_type": "stream",
     "text": [
      "Object obj1 created\n",
      "Object obj2 created\n",
      "Object obj1 deleted\n",
      "Object obj2 deleted\n"
     ]
    },
    {
     "data": {
      "text/plain": [
       "27"
      ]
     },
     "execution_count": 12,
     "metadata": {},
     "output_type": "execute_result"
    }
   ],
   "source": [
    "class MyObject:\n",
    "    def __init__(self,name):\n",
    "        self.name = name\n",
    "        print(f\"Object {self.name} created\")\n",
    "    \n",
    "    def __del__(self):\n",
    "        print(f\"Object {self.name} deleted\")\n",
    "\n",
    "#create circular reference\n",
    "obj1 = MyObject('obj1')\n",
    "obj2 = MyObject('obj2')\n",
    "obj1.ref = obj2\n",
    "obj2.ref = obj1\n",
    "\n",
    "del obj1\n",
    "del obj2\n",
    "\n",
    "## Manually trigger the garbage collection\n",
    "gc.collect()"
   ]
  },
  {
   "cell_type": "code",
   "execution_count": 13,
   "metadata": {},
   "outputs": [
    {
     "name": "stdout",
     "output_type": "stream",
     "text": [
      "0\n",
      "1\n",
      "2\n",
      "3\n",
      "4\n",
      "5\n",
      "6\n",
      "7\n",
      "8\n",
      "9\n",
      "10\n",
      "11\n"
     ]
    }
   ],
   "source": [
    "#Generators fro Memory efficiency\n",
    "#Generators allow you to produce items one at a time, using memory efficiently by only keeping one item in memory at a time\n",
    "\n",
    "def generate_number(n):\n",
    "    for i in range(n):\n",
    "       yield i\n",
    "\n",
    "for num in generate_number(100000) :\n",
    "    print(num)\n",
    "    if num>10:\n",
    "        break\n"
   ]
  },
  {
   "cell_type": "code",
   "execution_count": null,
   "metadata": {},
   "outputs": [],
   "source": [
    "# Profiling Memory usage with tracemalloc\n",
    "import tracemalloc\n",
    "\n",
    "def create_list():\n",
    "    return [i for i in range(10000)]\n",
    "\n",
    "def main():\n",
    "    tracemalloc.start() #begin memory tracking\n",
    "\n",
    "    mylist = create_list() #allocate memory by calling create_list\n",
    "\n",
    "    snapshot = tracemalloc.take_snapshot() #take snapshot of current memory usage\n",
    "    top_stats = snapshot.statistics('lineno') #groups memory usage by line number\n",
    "\n",
    "    print(\"[Top 10]\")\n",
    "    for stat in top_stats[:10]:\n",
    "        print(stat)\n",
    "        \n"
   ]
  },
  {
   "cell_type": "code",
   "execution_count": 19,
   "metadata": {},
   "outputs": [
    {
     "name": "stdout",
     "output_type": "stream",
     "text": [
      "[Top 10]\n",
      "C:\\Users\\HP\\AppData\\Local\\Temp\\ipykernel_2836\\3773040525.py:5: size=350 KiB, count=9745, average=37 B\n",
      "c:\\Users\\HP\\OneDrive\\Desktop\\ML\\venv\\lib\\json\\decoder.py:353: size=35.1 KiB, count=308, average=117 B\n",
      "c:\\Users\\HP\\OneDrive\\Desktop\\ML\\venv\\lib\\site-packages\\IPython\\core\\compilerop.py:174: size=26.3 KiB, count=235, average=115 B\n",
      "c:\\Users\\HP\\OneDrive\\Desktop\\ML\\venv\\lib\\tracemalloc.py:193: size=8160 B, count=170, average=48 B\n",
      "c:\\Users\\HP\\OneDrive\\Desktop\\ML\\venv\\lib\\site-packages\\ipykernel\\kernelbase.py:534: size=7616 B, count=15, average=508 B\n",
      "c:\\Users\\HP\\OneDrive\\Desktop\\ML\\venv\\lib\\enum.py:384: size=7552 B, count=27, average=280 B\n",
      "c:\\Users\\HP\\OneDrive\\Desktop\\ML\\venv\\lib\\signal.py:30: size=7264 B, count=27, average=269 B\n",
      "c:\\Users\\HP\\OneDrive\\Desktop\\ML\\venv\\lib\\site-packages\\zmq\\sugar\\attrsettr.py:45: size=7205 B, count=131, average=55 B\n",
      "c:\\Users\\HP\\OneDrive\\Desktop\\ML\\venv\\lib\\signal.py:48: size=6656 B, count=14, average=475 B\n",
      "c:\\Users\\HP\\OneDrive\\Desktop\\ML\\venv\\lib\\site-packages\\traitlets\\traitlets.py:731: size=6026 B, count=83, average=73 B\n"
     ]
    }
   ],
   "source": [
    "main()"
   ]
  },
  {
   "cell_type": "code",
   "execution_count": null,
   "metadata": {},
   "outputs": [],
   "source": []
  }
 ],
 "metadata": {
  "kernelspec": {
   "display_name": "Python 3",
   "language": "python",
   "name": "python3"
  },
  "language_info": {
   "codemirror_mode": {
    "name": "ipython",
    "version": 3
   },
   "file_extension": ".py",
   "mimetype": "text/x-python",
   "name": "python",
   "nbconvert_exporter": "python",
   "pygments_lexer": "ipython3",
   "version": "3.10.0"
  }
 },
 "nbformat": 4,
 "nbformat_minor": 2
}
