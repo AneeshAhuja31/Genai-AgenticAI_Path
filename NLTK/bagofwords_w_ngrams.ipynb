{
 "cells": [
  {
   "cell_type": "markdown",
   "metadata": {},
   "source": [
    "# Bag Of Words\n",
    "It is a text representation technique used to convert text to numerical form so that models can process it. Steps:\n",
    "1. Tokenization → Split text into words (tokens).\n",
    "2. Vocabulary Creation → Create a list of all unique words in the dataset.\n",
    "3. Vectorization → Convert each text into a vector based on word occurrences.\n"
   ]
  },
  {
   "cell_type": "code",
   "execution_count": 2,
   "metadata": {},
   "outputs": [],
   "source": [
    "text = '''The cat sat on the mat.\n",
    "The dog barked at the stranger.\n",
    "The bird is singing in the tree.\n",
    "The sun is shining brightly.\n",
    "The cat and dog are playing together.\n",
    "I love reading books on artificial intelligence.\n",
    "The weather is cold and rainy today.\n",
    "My laptop battery died while working.\n",
    "The football team won the championship.\n",
    "The chef is preparing a delicious meal.\n",
    "She enjoys hiking in the mountains.\n",
    "The train arrived at the station on time.\n",
    "Scientists are researching new medical treatments.\n",
    "The smartphone has a powerful camera.\n",
    "The students are studying for their exams.\n",
    "The movie was full of action and suspense.\n",
    "He listens to music while coding.\n",
    "The artist painted a beautiful landscape.\n",
    "The internet speed is very slow today.\n",
    "The bakery sells fresh bread every morning.\n",
    "'''\n",
    "from io import StringIO\n",
    "text_io = StringIO(text)"
   ]
  },
  {
   "cell_type": "code",
   "execution_count": 3,
   "metadata": {},
   "outputs": [
    {
     "data": {
      "text/html": [
       "<div>\n",
       "<style scoped>\n",
       "    .dataframe tbody tr th:only-of-type {\n",
       "        vertical-align: middle;\n",
       "    }\n",
       "\n",
       "    .dataframe tbody tr th {\n",
       "        vertical-align: top;\n",
       "    }\n",
       "\n",
       "    .dataframe thead th {\n",
       "        text-align: right;\n",
       "    }\n",
       "</style>\n",
       "<table border=\"1\" class=\"dataframe\">\n",
       "  <thead>\n",
       "    <tr style=\"text-align: right;\">\n",
       "      <th></th>\n",
       "      <th>message</th>\n",
       "    </tr>\n",
       "  </thead>\n",
       "  <tbody>\n",
       "    <tr>\n",
       "      <th>0</th>\n",
       "      <td>The cat sat on the mat.</td>\n",
       "    </tr>\n",
       "    <tr>\n",
       "      <th>1</th>\n",
       "      <td>The dog barked at the stranger.</td>\n",
       "    </tr>\n",
       "    <tr>\n",
       "      <th>2</th>\n",
       "      <td>The bird is singing in the tree.</td>\n",
       "    </tr>\n",
       "    <tr>\n",
       "      <th>3</th>\n",
       "      <td>The sun is shining brightly.</td>\n",
       "    </tr>\n",
       "    <tr>\n",
       "      <th>4</th>\n",
       "      <td>The cat and dog are playing together.</td>\n",
       "    </tr>\n",
       "    <tr>\n",
       "      <th>5</th>\n",
       "      <td>I love reading books on artificial intelligence.</td>\n",
       "    </tr>\n",
       "    <tr>\n",
       "      <th>6</th>\n",
       "      <td>The weather is cold and rainy today.</td>\n",
       "    </tr>\n",
       "    <tr>\n",
       "      <th>7</th>\n",
       "      <td>My laptop battery died while working.</td>\n",
       "    </tr>\n",
       "    <tr>\n",
       "      <th>8</th>\n",
       "      <td>The football team won the championship.</td>\n",
       "    </tr>\n",
       "    <tr>\n",
       "      <th>9</th>\n",
       "      <td>The chef is preparing a delicious meal.</td>\n",
       "    </tr>\n",
       "    <tr>\n",
       "      <th>10</th>\n",
       "      <td>She enjoys hiking in the mountains.</td>\n",
       "    </tr>\n",
       "    <tr>\n",
       "      <th>11</th>\n",
       "      <td>The train arrived at the station on time.</td>\n",
       "    </tr>\n",
       "    <tr>\n",
       "      <th>12</th>\n",
       "      <td>Scientists are researching new medical treatme...</td>\n",
       "    </tr>\n",
       "    <tr>\n",
       "      <th>13</th>\n",
       "      <td>The smartphone has a powerful camera.</td>\n",
       "    </tr>\n",
       "    <tr>\n",
       "      <th>14</th>\n",
       "      <td>The students are studying for their exams.</td>\n",
       "    </tr>\n",
       "    <tr>\n",
       "      <th>15</th>\n",
       "      <td>The movie was full of action and suspense.</td>\n",
       "    </tr>\n",
       "    <tr>\n",
       "      <th>16</th>\n",
       "      <td>He listens to music while coding.</td>\n",
       "    </tr>\n",
       "    <tr>\n",
       "      <th>17</th>\n",
       "      <td>The artist painted a beautiful landscape.</td>\n",
       "    </tr>\n",
       "    <tr>\n",
       "      <th>18</th>\n",
       "      <td>The internet speed is very slow today.</td>\n",
       "    </tr>\n",
       "    <tr>\n",
       "      <th>19</th>\n",
       "      <td>The bakery sells fresh bread every morning.</td>\n",
       "    </tr>\n",
       "  </tbody>\n",
       "</table>\n",
       "</div>"
      ],
      "text/plain": [
       "                                              message\n",
       "0                             The cat sat on the mat.\n",
       "1                     The dog barked at the stranger.\n",
       "2                    The bird is singing in the tree.\n",
       "3                        The sun is shining brightly.\n",
       "4               The cat and dog are playing together.\n",
       "5    I love reading books on artificial intelligence.\n",
       "6                The weather is cold and rainy today.\n",
       "7               My laptop battery died while working.\n",
       "8             The football team won the championship.\n",
       "9             The chef is preparing a delicious meal.\n",
       "10                She enjoys hiking in the mountains.\n",
       "11          The train arrived at the station on time.\n",
       "12  Scientists are researching new medical treatme...\n",
       "13              The smartphone has a powerful camera.\n",
       "14         The students are studying for their exams.\n",
       "15         The movie was full of action and suspense.\n",
       "16                  He listens to music while coding.\n",
       "17          The artist painted a beautiful landscape.\n",
       "18             The internet speed is very slow today.\n",
       "19        The bakery sells fresh bread every morning."
      ]
     },
     "execution_count": 3,
     "metadata": {},
     "output_type": "execute_result"
    }
   ],
   "source": [
    "import pandas as pd\n",
    "messages = pd.read_csv(text_io,sep='\\t',names=['message'])\n",
    "messages"
   ]
  },
  {
   "cell_type": "code",
   "execution_count": 4,
   "metadata": {},
   "outputs": [
    {
     "name": "stderr",
     "output_type": "stream",
     "text": [
      "[nltk_data] Downloading package stopwords to\n",
      "[nltk_data]     C:\\Users\\HP\\AppData\\Roaming\\nltk_data...\n",
      "[nltk_data]   Package stopwords is already up-to-date!\n"
     ]
    },
    {
     "data": {
      "text/plain": [
       "True"
      ]
     },
     "execution_count": 4,
     "metadata": {},
     "output_type": "execute_result"
    }
   ],
   "source": [
    "import re,nltk\n",
    "nltk.download('stopwords')"
   ]
  },
  {
   "cell_type": "code",
   "execution_count": 5,
   "metadata": {},
   "outputs": [],
   "source": [
    "from nltk.corpus import stopwords\n",
    "from nltk.stem.porter import PorterStemmer\n",
    "ps = PorterStemmer()"
   ]
  },
  {
   "cell_type": "code",
   "execution_count": 6,
   "metadata": {},
   "outputs": [],
   "source": [
    "corpus = []\n",
    "for i in range(0,len(messages)):\n",
    "    review = re.sub('[^a-zA-Z]',' ',messages['message'][i])\n",
    "    review = review.lower()\n",
    "    review = review.split()\n",
    "    review = [ps.stem(word) for word in review if word not in stopwords.words('english')]\n",
    "    review = ' '.join(review)\n",
    "    corpus.append(review)\n"
   ]
  },
  {
   "cell_type": "code",
   "execution_count": 7,
   "metadata": {},
   "outputs": [
    {
     "data": {
      "text/plain": [
       "['cat sat mat',\n",
       " 'dog bark stranger',\n",
       " 'bird sing tree',\n",
       " 'sun shine brightli',\n",
       " 'cat dog play togeth',\n",
       " 'love read book artifici intellig',\n",
       " 'weather cold raini today',\n",
       " 'laptop batteri die work',\n",
       " 'footbal team championship',\n",
       " 'chef prepar delici meal',\n",
       " 'enjoy hike mountain',\n",
       " 'train arriv station time',\n",
       " 'scientist research new medic treatment',\n",
       " 'smartphon power camera',\n",
       " 'student studi exam',\n",
       " 'movi full action suspens',\n",
       " 'listen music code',\n",
       " 'artist paint beauti landscap',\n",
       " 'internet speed slow today',\n",
       " 'bakeri sell fresh bread everi morn']"
      ]
     },
     "execution_count": 7,
     "metadata": {},
     "output_type": "execute_result"
    }
   ],
   "source": [
    "corpus"
   ]
  },
  {
   "cell_type": "code",
   "execution_count": null,
   "metadata": {},
   "outputs": [],
   "source": [
    "#Create the BOW model\n",
    "from sklearn.feature_extraction.text import CountVectorizer\n",
    "#for Binary BOW enable binary=True\n",
    "cv = CountVectorizer(max_features=50,binary = True,ngram_range=(2,3)) #include bigram and trigram\n",
    "x = cv.fit_transform(corpus).toarray()\n"
   ]
  },
  {
   "cell_type": "markdown",
   "metadata": {},
   "source": [
    "# N grams\n",
    "A N-gram is a contiguous sequence of N words from a given text. It helps in capturing word order and context, unlike the Bag of Words(BoW) model, which ignores word sequences."
   ]
  },
  {
   "cell_type": "code",
   "execution_count": 25,
   "metadata": {},
   "outputs": [
    {
     "data": {
      "text/plain": [
       "{'cat sat': np.int64(20),\n",
       " 'cat sat mat': np.int64(21),\n",
       " 'dog bark': np.int64(28),\n",
       " 'bark stranger': np.int64(8),\n",
       " 'dog bark stranger': np.int64(29),\n",
       " 'bird sing': np.int64(12),\n",
       " 'bird sing tree': np.int64(13),\n",
       " 'cat dog': np.int64(18),\n",
       " 'dog play': np.int64(30),\n",
       " 'cat dog play': np.int64(19),\n",
       " 'dog play togeth': np.int64(31),\n",
       " 'love read': np.int64(48),\n",
       " 'book artifici': np.int64(14),\n",
       " 'artifici intellig': np.int64(3),\n",
       " 'love read book': np.int64(49),\n",
       " 'book artifici intellig': np.int64(15),\n",
       " 'cold raini': np.int64(24),\n",
       " 'cold raini today': np.int64(25),\n",
       " 'laptop batteri': np.int64(44),\n",
       " 'batteri die': np.int64(9),\n",
       " 'die work': np.int64(27),\n",
       " 'laptop batteri die': np.int64(45),\n",
       " 'batteri die work': np.int64(10),\n",
       " 'footbal team': np.int64(35),\n",
       " 'footbal team championship': np.int64(36),\n",
       " 'chef prepar': np.int64(22),\n",
       " 'delici meal': np.int64(26),\n",
       " 'chef prepar delici': np.int64(23),\n",
       " 'enjoy hike': np.int64(32),\n",
       " 'hike mountain': np.int64(41),\n",
       " 'enjoy hike mountain': np.int64(33),\n",
       " 'arriv station': np.int64(1),\n",
       " 'arriv station time': np.int64(2),\n",
       " 'full action': np.int64(39),\n",
       " 'action suspens': np.int64(0),\n",
       " 'full action suspens': np.int64(40),\n",
       " 'listen music': np.int64(46),\n",
       " 'listen music code': np.int64(47),\n",
       " 'artist paint': np.int64(4),\n",
       " 'beauti landscap': np.int64(11),\n",
       " 'artist paint beauti': np.int64(5),\n",
       " 'internet speed': np.int64(42),\n",
       " 'internet speed slow': np.int64(43),\n",
       " 'bakeri sell': np.int64(6),\n",
       " 'fresh bread': np.int64(37),\n",
       " 'bread everi': np.int64(16),\n",
       " 'everi morn': np.int64(34),\n",
       " 'bakeri sell fresh': np.int64(7),\n",
       " 'fresh bread everi': np.int64(38),\n",
       " 'bread everi morn': np.int64(17)}"
      ]
     },
     "execution_count": 25,
     "metadata": {},
     "output_type": "execute_result"
    }
   ],
   "source": [
    "cv.vocabulary_"
   ]
  },
  {
   "cell_type": "code",
   "execution_count": null,
   "metadata": {},
   "outputs": [],
   "source": []
  }
 ],
 "metadata": {
  "kernelspec": {
   "display_name": "Python 3",
   "language": "python",
   "name": "python3"
  },
  "language_info": {
   "codemirror_mode": {
    "name": "ipython",
    "version": 3
   },
   "file_extension": ".py",
   "mimetype": "text/x-python",
   "name": "python",
   "nbconvert_exporter": "python",
   "pygments_lexer": "ipython3",
   "version": "3.10.0"
  }
 },
 "nbformat": 4,
 "nbformat_minor": 2
}
